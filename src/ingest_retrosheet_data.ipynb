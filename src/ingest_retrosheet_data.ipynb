{
 "cells": [
  {
   "cell_type": "markdown",
   "metadata": {},
   "source": [
    "# Download data files from RetroSheet\n",
    "\n",
    "We are doing this once before the other processing to avoid hammering their website and potentially\n",
    "taking away something that is great and currently free!  Thank you retrosheet.org!\n",
    "\n",
    "https://www.retrosheet.org/eventfile.htm"
   ]
  },
  {
   "cell_type": "code",
   "execution_count": 1,
   "metadata": {},
   "outputs": [],
   "source": [
    "import logging\n",
    "import os\n",
    "from download_retrosheet_data import download_all_retrosheet_seasons\n",
    "from download_retrosheet_data import extract_retrosheet_zip_files\n",
    "from import_team_data import import_all_team_data_files\n",
    "from import_roster_data import import_all_roster_data_files"
   ]
  },
  {
   "cell_type": "code",
   "execution_count": 2,
   "metadata": {},
   "outputs": [],
   "source": [
    "DATA_DIR = \"../data\"\n",
    "\n",
    "ZIPS_DATA_DIR = DATA_DIR + \"/zips/\"\n",
    "RAW_DATA_DIR = DATA_DIR + \"/raw/\""
   ]
  },
  {
   "cell_type": "code",
   "execution_count": 3,
   "metadata": {},
   "outputs": [],
   "source": [
    "logging.basicConfig(level=logging.DEBUG,\n",
    "    handlers=[\n",
    "        # no need - logging.FileHandler(\"baseball-ingest.log\"),\n",
    "        logging.StreamHandler()\n",
    "    ])"
   ]
  },
  {
   "cell_type": "code",
   "execution_count": null,
   "metadata": {},
   "outputs": [],
   "source": [
    "if not os.path.exists(DATA_DIR):\n",
    "     os.mkdir(DATA_DIR)\n",
    "elif not os.path.isdir(DATA_DIR):\n",
    "    raise ValueError(\"Unrecoverable error!  DATA_DIR exists but is not a directory.\")"
   ]
  },
  {
   "cell_type": "code",
   "execution_count": 4,
   "metadata": {},
   "outputs": [
    {
     "name": "stderr",
     "output_type": "stream",
     "text": [
      "INFO:download_retrosheet_data:Downloading all retrosheet season data to location: ../data/zips/\n",
      "INFO:download_retrosheet_data:Downloading Retrosheet Season Data for Decade: 1910\n",
      "INFO:download_retrosheet_data:Skipping file (already exists): ../data/zips/1910seve.zip\n",
      "INFO:download_retrosheet_data:Downloading Retrosheet Season Data for Decade: 1920\n",
      "INFO:download_retrosheet_data:Skipping file (already exists): ../data/zips/1920seve.zip\n",
      "INFO:download_retrosheet_data:Downloading Retrosheet Season Data for Decade: 1930\n",
      "INFO:download_retrosheet_data:Skipping file (already exists): ../data/zips/1930seve.zip\n",
      "INFO:download_retrosheet_data:Downloading Retrosheet Season Data for Decade: 1940\n",
      "INFO:download_retrosheet_data:Skipping file (already exists): ../data/zips/1940seve.zip\n",
      "INFO:download_retrosheet_data:Downloading Retrosheet Season Data for Decade: 1950\n",
      "INFO:download_retrosheet_data:Skipping file (already exists): ../data/zips/1950seve.zip\n",
      "INFO:download_retrosheet_data:Downloading Retrosheet Season Data for Decade: 1960\n",
      "INFO:download_retrosheet_data:Skipping file (already exists): ../data/zips/1960seve.zip\n",
      "INFO:download_retrosheet_data:Downloading Retrosheet Season Data for Decade: 1970\n",
      "INFO:download_retrosheet_data:Skipping file (already exists): ../data/zips/1970seve.zip\n",
      "INFO:download_retrosheet_data:Downloading Retrosheet Season Data for Decade: 1980\n",
      "INFO:download_retrosheet_data:Skipping file (already exists): ../data/zips/1980seve.zip\n",
      "INFO:download_retrosheet_data:Downloading Retrosheet Season Data for Decade: 1990\n",
      "INFO:download_retrosheet_data:Skipping file (already exists): ../data/zips/1990seve.zip\n",
      "INFO:download_retrosheet_data:Downloading Retrosheet Season Data for Decade: 2000\n",
      "INFO:download_retrosheet_data:Skipping file (already exists): ../data/zips/2000seve.zip\n",
      "INFO:download_retrosheet_data:Downloading Retrosheet Season Data for Decade: 2010\n",
      "INFO:download_retrosheet_data:Skipping file (already exists): ../data/zips/2010seve.zip\n",
      "INFO:download_retrosheet_data:Downloading Retrosheet Season Data for Decade: 2020\n",
      "INFO:download_retrosheet_data:Skipping file (already exists): ../data/zips/2020seve.zip\n"
     ]
    }
   ],
   "source": [
    "download_all_retrosheet_seasons(ZIPS_DATA_DIR)"
   ]
  },
  {
   "cell_type": "code",
   "execution_count": 5,
   "metadata": {},
   "outputs": [
    {
     "name": "stderr",
     "output_type": "stream",
     "text": [
      "INFO:download_retrosheet_data:Extracting all the downloaded retrosheet zip files.  Source=<../data/zips/> Target=<../data/raw/>\n",
      "INFO:download_retrosheet_data:Extracting zip file to the target directory.  Zip=../data/zips/1970seve.zip OutputDir=../data/raw/\n",
      "DEBUG:download_retrosheet_data:Unzipped file: ../data/zips/1970seve.zip\n",
      "INFO:download_retrosheet_data:Extracting zip file to the target directory.  Zip=../data/zips/1960seve.zip OutputDir=../data/raw/\n",
      "DEBUG:download_retrosheet_data:Unzipped file: ../data/zips/1960seve.zip\n",
      "INFO:download_retrosheet_data:Extracting zip file to the target directory.  Zip=../data/zips/2010seve.zip OutputDir=../data/raw/\n",
      "DEBUG:download_retrosheet_data:Unzipped file: ../data/zips/2010seve.zip\n",
      "INFO:download_retrosheet_data:Extracting zip file to the target directory.  Zip=../data/zips/2000seve.zip OutputDir=../data/raw/\n",
      "DEBUG:download_retrosheet_data:Unzipped file: ../data/zips/2000seve.zip\n",
      "INFO:download_retrosheet_data:Extracting zip file to the target directory.  Zip=../data/zips/1910seve.zip OutputDir=../data/raw/\n",
      "DEBUG:download_retrosheet_data:Unzipped file: ../data/zips/1910seve.zip\n",
      "INFO:download_retrosheet_data:Extracting zip file to the target directory.  Zip=../data/zips/2020seve.zip OutputDir=../data/raw/\n",
      "DEBUG:download_retrosheet_data:Unzipped file: ../data/zips/2020seve.zip\n",
      "INFO:download_retrosheet_data:Extracting zip file to the target directory.  Zip=../data/zips/1940seve.zip OutputDir=../data/raw/\n",
      "DEBUG:download_retrosheet_data:Unzipped file: ../data/zips/1940seve.zip\n",
      "INFO:download_retrosheet_data:Extracting zip file to the target directory.  Zip=../data/zips/1950seve.zip OutputDir=../data/raw/\n",
      "DEBUG:download_retrosheet_data:Unzipped file: ../data/zips/1950seve.zip\n",
      "INFO:download_retrosheet_data:Extracting zip file to the target directory.  Zip=../data/zips/1930seve.zip OutputDir=../data/raw/\n",
      "DEBUG:download_retrosheet_data:Unzipped file: ../data/zips/1930seve.zip\n",
      "INFO:download_retrosheet_data:Extracting zip file to the target directory.  Zip=../data/zips/1920seve.zip OutputDir=../data/raw/\n",
      "DEBUG:download_retrosheet_data:Unzipped file: ../data/zips/1920seve.zip\n",
      "INFO:download_retrosheet_data:Extracting zip file to the target directory.  Zip=../data/zips/1990seve.zip OutputDir=../data/raw/\n",
      "DEBUG:download_retrosheet_data:Unzipped file: ../data/zips/1990seve.zip\n",
      "INFO:download_retrosheet_data:Extracting zip file to the target directory.  Zip=../data/zips/1980seve.zip OutputDir=../data/raw/\n",
      "DEBUG:download_retrosheet_data:Unzipped file: ../data/zips/1980seve.zip\n"
     ]
    }
   ],
   "source": [
    "extract_retrosheet_zip_files(ZIPS_DATA_DIR, RAW_DATA_DIR)"
   ]
  },
  {
   "cell_type": "code",
   "execution_count": 6,
   "metadata": {},
   "outputs": [],
   "source": [
    "import_all_team_data_files(RAW_DATA_DIR)"
   ]
  },
  {
   "cell_type": "code",
   "execution_count": 7,
   "metadata": {},
   "outputs": [
    {
     "name": "stderr",
     "output_type": "stream",
     "text": [
      "INFO:import_roster_data:Importing Roster Data Files from Directory: ../data/raw/\n",
      "INFO:import_roster_data:Importing Roster Data File: ../data/raw/CLE1945.ROS\n",
      "DEBUG:db_utils:Connecting to database.\n"
     ]
    },
    {
     "ename": "TypeError",
     "evalue": "query parameters should be a sequence or a mapping, got str",
     "output_type": "error",
     "traceback": [
      "\u001b[0;31m---------------------------------------------------------------------------\u001b[0m",
      "\u001b[0;31mTypeError\u001b[0m                                 Traceback (most recent call last)",
      "Cell \u001b[0;32mIn[7], line 1\u001b[0m\n\u001b[0;32m----> 1\u001b[0m \u001b[43mimport_all_roster_data_files\u001b[49m\u001b[43m(\u001b[49m\u001b[43mRAW_DATA_DIR\u001b[49m\u001b[43m)\u001b[49m\n",
      "File \u001b[0;32m~/Projects/github.com/baseball/ingest/import_roster_data.py:49\u001b[0m, in \u001b[0;36mimport_all_roster_data_files\u001b[0;34m(directory)\u001b[0m\n\u001b[1;32m     47\u001b[0m \u001b[38;5;28;01mfor\u001b[39;00m file \u001b[38;5;129;01min\u001b[39;00m os\u001b[38;5;241m.\u001b[39mlistdir(directory):\n\u001b[1;32m     48\u001b[0m     \u001b[38;5;28;01mif\u001b[39;00m file\u001b[38;5;241m.\u001b[39mendswith(ROSTER_FILE_EXTENSION):\n\u001b[0;32m---> 49\u001b[0m         \u001b[43mimport_roster_data_file\u001b[49m\u001b[43m(\u001b[49m\u001b[43mfile\u001b[49m\u001b[43m,\u001b[49m\u001b[43m \u001b[49m\u001b[43mdirectory\u001b[49m\u001b[43m)\u001b[49m\n\u001b[1;32m     50\u001b[0m logger\u001b[38;5;241m.\u001b[39mdebug(\u001b[38;5;124m\"\u001b[39m\u001b[38;5;124mAll files imported\u001b[39m\u001b[38;5;124m\"\u001b[39m)\n",
      "File \u001b[0;32m~/Projects/github.com/baseball/ingest/import_roster_data.py:28\u001b[0m, in \u001b[0;36mimport_roster_data_file\u001b[0;34m(file, directory)\u001b[0m\n\u001b[1;32m     25\u001b[0m sql_connection \u001b[38;5;241m=\u001b[39m connect_to_db()\n\u001b[1;32m     27\u001b[0m \u001b[38;5;28;01mwith\u001b[39;00m sql_connection\u001b[38;5;241m.\u001b[39mcursor() \u001b[38;5;28;01mas\u001b[39;00m sql_cursor:\n\u001b[0;32m---> 28\u001b[0m     \u001b[43msql_cursor\u001b[49m\u001b[38;5;241;43m.\u001b[39;49m\u001b[43mexecute\u001b[49m\u001b[43m(\u001b[49m\u001b[43mcopy_sql\u001b[49m\u001b[43m,\u001b[49m\n\u001b[1;32m     29\u001b[0m \u001b[43m        \u001b[49m\u001b[43m(\u001b[49m\n\u001b[1;32m     30\u001b[0m \u001b[43m            \u001b[49m\u001b[43mdata_file\u001b[49m\n\u001b[1;32m     31\u001b[0m \u001b[43m        \u001b[49m\u001b[43m)\u001b[49m\n\u001b[1;32m     32\u001b[0m \u001b[43m    \u001b[49m\u001b[43m)\u001b[49m\n\u001b[1;32m     33\u001b[0m     count \u001b[38;5;241m=\u001b[39m sql_cursor\u001b[38;5;241m.\u001b[39mfetchone()\n\u001b[1;32m     35\u001b[0m sql_connection\u001b[38;5;241m.\u001b[39mcommit()\n",
      "File \u001b[0;32m/opt/anaconda3/envs/baseball/lib/python3.11/site-packages/psycopg/cursor.py:93\u001b[0m, in \u001b[0;36mCursor.execute\u001b[0;34m(self, query, params, prepare, binary)\u001b[0m\n\u001b[1;32m     91\u001b[0m \u001b[38;5;28;01mtry\u001b[39;00m:\n\u001b[1;32m     92\u001b[0m     \u001b[38;5;28;01mwith\u001b[39;00m \u001b[38;5;28mself\u001b[39m\u001b[38;5;241m.\u001b[39m_conn\u001b[38;5;241m.\u001b[39mlock:\n\u001b[0;32m---> 93\u001b[0m         \u001b[38;5;28;43mself\u001b[39;49m\u001b[38;5;241;43m.\u001b[39;49m\u001b[43m_conn\u001b[49m\u001b[38;5;241;43m.\u001b[39;49m\u001b[43mwait\u001b[49m\u001b[43m(\u001b[49m\n\u001b[1;32m     94\u001b[0m \u001b[43m            \u001b[49m\u001b[38;5;28;43mself\u001b[39;49m\u001b[38;5;241;43m.\u001b[39;49m\u001b[43m_execute_gen\u001b[49m\u001b[43m(\u001b[49m\u001b[43mquery\u001b[49m\u001b[43m,\u001b[49m\u001b[43m \u001b[49m\u001b[43mparams\u001b[49m\u001b[43m,\u001b[49m\u001b[43m \u001b[49m\u001b[43mprepare\u001b[49m\u001b[38;5;241;43m=\u001b[39;49m\u001b[43mprepare\u001b[49m\u001b[43m,\u001b[49m\u001b[43m \u001b[49m\u001b[43mbinary\u001b[49m\u001b[38;5;241;43m=\u001b[39;49m\u001b[43mbinary\u001b[49m\u001b[43m)\u001b[49m\n\u001b[1;32m     95\u001b[0m \u001b[43m        \u001b[49m\u001b[43m)\u001b[49m\n\u001b[1;32m     96\u001b[0m \u001b[38;5;28;01mexcept\u001b[39;00m e\u001b[38;5;241m.\u001b[39m_NO_TRACEBACK \u001b[38;5;28;01mas\u001b[39;00m ex:\n\u001b[1;32m     97\u001b[0m     \u001b[38;5;28;01mraise\u001b[39;00m ex\u001b[38;5;241m.\u001b[39mwith_traceback(\u001b[38;5;28;01mNone\u001b[39;00m)\n",
      "File \u001b[0;32m/opt/anaconda3/envs/baseball/lib/python3.11/site-packages/psycopg/connection.py:394\u001b[0m, in \u001b[0;36mConnection.wait\u001b[0;34m(self, gen, interval)\u001b[0m\n\u001b[1;32m    387\u001b[0m \u001b[38;5;250m\u001b[39m\u001b[38;5;124;03m\"\"\"\u001b[39;00m\n\u001b[1;32m    388\u001b[0m \u001b[38;5;124;03mConsume a generator operating on the connection.\u001b[39;00m\n\u001b[1;32m    389\u001b[0m \n\u001b[1;32m    390\u001b[0m \u001b[38;5;124;03mThe function must be used on generators that don't change connection\u001b[39;00m\n\u001b[1;32m    391\u001b[0m \u001b[38;5;124;03mfd (i.e. not on connect and reset).\u001b[39;00m\n\u001b[1;32m    392\u001b[0m \u001b[38;5;124;03m\"\"\"\u001b[39;00m\n\u001b[1;32m    393\u001b[0m \u001b[38;5;28;01mtry\u001b[39;00m:\n\u001b[0;32m--> 394\u001b[0m     \u001b[38;5;28;01mreturn\u001b[39;00m \u001b[43mwaiting\u001b[49m\u001b[38;5;241;43m.\u001b[39;49m\u001b[43mwait\u001b[49m\u001b[43m(\u001b[49m\u001b[43mgen\u001b[49m\u001b[43m,\u001b[49m\u001b[43m \u001b[49m\u001b[38;5;28;43mself\u001b[39;49m\u001b[38;5;241;43m.\u001b[39;49m\u001b[43mpgconn\u001b[49m\u001b[38;5;241;43m.\u001b[39;49m\u001b[43msocket\u001b[49m\u001b[43m,\u001b[49m\u001b[43m \u001b[49m\u001b[43minterval\u001b[49m\u001b[38;5;241;43m=\u001b[39;49m\u001b[43minterval\u001b[49m\u001b[43m)\u001b[49m\n\u001b[1;32m    395\u001b[0m \u001b[38;5;28;01mexcept\u001b[39;00m _INTERRUPTED:\n\u001b[1;32m    396\u001b[0m     \u001b[38;5;28;01mif\u001b[39;00m \u001b[38;5;28mself\u001b[39m\u001b[38;5;241m.\u001b[39mpgconn\u001b[38;5;241m.\u001b[39mtransaction_status \u001b[38;5;241m==\u001b[39m ACTIVE:\n\u001b[1;32m    397\u001b[0m         \u001b[38;5;66;03m# On Ctrl-C, try to cancel the query in the server, otherwise\u001b[39;00m\n\u001b[1;32m    398\u001b[0m         \u001b[38;5;66;03m# the connection will remain stuck in ACTIVE state.\u001b[39;00m\n",
      "File \u001b[0;32mpsycopg_binary/_psycopg/waiting.pyx:213\u001b[0m, in \u001b[0;36mpsycopg_binary._psycopg.wait_c\u001b[0;34m()\u001b[0m\n",
      "File \u001b[0;32m/opt/anaconda3/envs/baseball/lib/python3.11/site-packages/psycopg/_cursor_base.py:195\u001b[0m, in \u001b[0;36mBaseCursor._execute_gen\u001b[0;34m(self, query, params, prepare, binary)\u001b[0m\n\u001b[1;32m    193\u001b[0m \u001b[38;5;250m\u001b[39m\u001b[38;5;124;03m\"\"\"Generator implementing `Cursor.execute()`.\"\"\"\u001b[39;00m\n\u001b[1;32m    194\u001b[0m \u001b[38;5;28;01myield from\u001b[39;00m \u001b[38;5;28mself\u001b[39m\u001b[38;5;241m.\u001b[39m_start_query(query)\n\u001b[0;32m--> 195\u001b[0m pgq \u001b[38;5;241m=\u001b[39m \u001b[38;5;28;43mself\u001b[39;49m\u001b[38;5;241;43m.\u001b[39;49m\u001b[43m_convert_query\u001b[49m\u001b[43m(\u001b[49m\u001b[43mquery\u001b[49m\u001b[43m,\u001b[49m\u001b[43m \u001b[49m\u001b[43mparams\u001b[49m\u001b[43m)\u001b[49m\n\u001b[1;32m    196\u001b[0m \u001b[38;5;28;01myield from\u001b[39;00m \u001b[38;5;28mself\u001b[39m\u001b[38;5;241m.\u001b[39m_maybe_prepare_gen(pgq, prepare\u001b[38;5;241m=\u001b[39mprepare, binary\u001b[38;5;241m=\u001b[39mbinary)\n\u001b[1;32m    197\u001b[0m \u001b[38;5;28;01mif\u001b[39;00m \u001b[38;5;28mself\u001b[39m\u001b[38;5;241m.\u001b[39m_conn\u001b[38;5;241m.\u001b[39m_pipeline:\n",
      "File \u001b[0;32m/opt/anaconda3/envs/baseball/lib/python3.11/site-packages/psycopg/_cursor_base.py:455\u001b[0m, in \u001b[0;36mBaseCursor._convert_query\u001b[0;34m(self, query, params)\u001b[0m\n\u001b[1;32m    451\u001b[0m \u001b[38;5;28;01mdef\u001b[39;00m \u001b[38;5;21m_convert_query\u001b[39m(\n\u001b[1;32m    452\u001b[0m     \u001b[38;5;28mself\u001b[39m, query: Query, params: Params \u001b[38;5;241m|\u001b[39m \u001b[38;5;28;01mNone\u001b[39;00m \u001b[38;5;241m=\u001b[39m \u001b[38;5;28;01mNone\u001b[39;00m\n\u001b[1;32m    453\u001b[0m ) \u001b[38;5;241m-\u001b[39m\u001b[38;5;241m>\u001b[39m PostgresQuery:\n\u001b[1;32m    454\u001b[0m     pgq \u001b[38;5;241m=\u001b[39m \u001b[38;5;28mself\u001b[39m\u001b[38;5;241m.\u001b[39m_query_cls(\u001b[38;5;28mself\u001b[39m\u001b[38;5;241m.\u001b[39m_tx)\n\u001b[0;32m--> 455\u001b[0m     \u001b[43mpgq\u001b[49m\u001b[38;5;241;43m.\u001b[39;49m\u001b[43mconvert\u001b[49m\u001b[43m(\u001b[49m\u001b[43mquery\u001b[49m\u001b[43m,\u001b[49m\u001b[43m \u001b[49m\u001b[43mparams\u001b[49m\u001b[43m)\u001b[49m\n\u001b[1;32m    456\u001b[0m     \u001b[38;5;28;01mreturn\u001b[39;00m pgq\n",
      "File \u001b[0;32m/opt/anaconda3/envs/baseball/lib/python3.11/site-packages/psycopg/_queries.py:96\u001b[0m, in \u001b[0;36mPostgresQuery.convert\u001b[0;34m(self, query, vars)\u001b[0m\n\u001b[1;32m     93\u001b[0m     \u001b[38;5;28mself\u001b[39m\u001b[38;5;241m.\u001b[39mquery \u001b[38;5;241m=\u001b[39m bquery\n\u001b[1;32m     94\u001b[0m     \u001b[38;5;28mself\u001b[39m\u001b[38;5;241m.\u001b[39m_want_formats \u001b[38;5;241m=\u001b[39m \u001b[38;5;28mself\u001b[39m\u001b[38;5;241m.\u001b[39m_order \u001b[38;5;241m=\u001b[39m \u001b[38;5;28;01mNone\u001b[39;00m\n\u001b[0;32m---> 96\u001b[0m \u001b[38;5;28;43mself\u001b[39;49m\u001b[38;5;241;43m.\u001b[39;49m\u001b[43mdump\u001b[49m\u001b[43m(\u001b[49m\u001b[38;5;28;43mvars\u001b[39;49m\u001b[43m)\u001b[49m\n",
      "File \u001b[0;32m/opt/anaconda3/envs/baseball/lib/python3.11/site-packages/psycopg/_queries.py:105\u001b[0m, in \u001b[0;36mPostgresQuery.dump\u001b[0;34m(self, vars)\u001b[0m\n\u001b[1;32m     99\u001b[0m \u001b[38;5;250m\u001b[39m\u001b[38;5;124;03m\"\"\"\u001b[39;00m\n\u001b[1;32m    100\u001b[0m \u001b[38;5;124;03mProcess a new set of variables on the query processed by `convert()`.\u001b[39;00m\n\u001b[1;32m    101\u001b[0m \n\u001b[1;32m    102\u001b[0m \u001b[38;5;124;03mThis method updates `params` and `types`.\u001b[39;00m\n\u001b[1;32m    103\u001b[0m \u001b[38;5;124;03m\"\"\"\u001b[39;00m\n\u001b[1;32m    104\u001b[0m \u001b[38;5;28;01mif\u001b[39;00m \u001b[38;5;28mvars\u001b[39m \u001b[38;5;129;01mis\u001b[39;00m \u001b[38;5;129;01mnot\u001b[39;00m \u001b[38;5;28;01mNone\u001b[39;00m:\n\u001b[0;32m--> 105\u001b[0m     params \u001b[38;5;241m=\u001b[39m \u001b[38;5;28;43mself\u001b[39;49m\u001b[38;5;241;43m.\u001b[39;49m\u001b[43mvalidate_and_reorder_params\u001b[49m\u001b[43m(\u001b[49m\u001b[38;5;28;43mself\u001b[39;49m\u001b[38;5;241;43m.\u001b[39;49m\u001b[43m_parts\u001b[49m\u001b[43m,\u001b[49m\u001b[43m \u001b[49m\u001b[38;5;28;43mvars\u001b[39;49m\u001b[43m,\u001b[49m\u001b[43m \u001b[49m\u001b[38;5;28;43mself\u001b[39;49m\u001b[38;5;241;43m.\u001b[39;49m\u001b[43m_order\u001b[49m\u001b[43m)\u001b[49m\n\u001b[1;32m    106\u001b[0m     \u001b[38;5;28;01massert\u001b[39;00m \u001b[38;5;28mself\u001b[39m\u001b[38;5;241m.\u001b[39m_want_formats \u001b[38;5;129;01mis\u001b[39;00m \u001b[38;5;129;01mnot\u001b[39;00m \u001b[38;5;28;01mNone\u001b[39;00m\n\u001b[1;32m    107\u001b[0m     \u001b[38;5;28mself\u001b[39m\u001b[38;5;241m.\u001b[39mparams \u001b[38;5;241m=\u001b[39m \u001b[38;5;28mself\u001b[39m\u001b[38;5;241m.\u001b[39m_tx\u001b[38;5;241m.\u001b[39mdump_sequence(params, \u001b[38;5;28mself\u001b[39m\u001b[38;5;241m.\u001b[39m_want_formats)\n",
      "File \u001b[0;32m/opt/anaconda3/envs/baseball/lib/python3.11/site-packages/psycopg/_queries.py:142\u001b[0m, in \u001b[0;36mPostgresQuery.validate_and_reorder_params\u001b[0;34m(parts, vars, order)\u001b[0m\n\u001b[1;32m    134\u001b[0m \u001b[38;5;129m@staticmethod\u001b[39m\n\u001b[1;32m    135\u001b[0m \u001b[38;5;28;01mdef\u001b[39;00m \u001b[38;5;21mvalidate_and_reorder_params\u001b[39m(\n\u001b[1;32m    136\u001b[0m     parts: \u001b[38;5;28mlist\u001b[39m[QueryPart], \u001b[38;5;28mvars\u001b[39m: Params, order: \u001b[38;5;28mlist\u001b[39m[\u001b[38;5;28mstr\u001b[39m] \u001b[38;5;241m|\u001b[39m \u001b[38;5;28;01mNone\u001b[39;00m\n\u001b[1;32m    137\u001b[0m ) \u001b[38;5;241m-\u001b[39m\u001b[38;5;241m>\u001b[39m Sequence[Any]:\n\u001b[1;32m    138\u001b[0m \u001b[38;5;250m    \u001b[39m\u001b[38;5;124;03m\"\"\"\u001b[39;00m\n\u001b[1;32m    139\u001b[0m \u001b[38;5;124;03m    Verify the compatibility between a query and a set of params.\u001b[39;00m\n\u001b[1;32m    140\u001b[0m \u001b[38;5;124;03m    \"\"\"\u001b[39;00m\n\u001b[0;32m--> 142\u001b[0m     \u001b[38;5;28;01mif\u001b[39;00m \u001b[43mPostgresQuery\u001b[49m\u001b[38;5;241;43m.\u001b[39;49m\u001b[43mis_params_sequence\u001b[49m\u001b[43m(\u001b[49m\u001b[38;5;28;43mvars\u001b[39;49m\u001b[43m)\u001b[49m:\n\u001b[1;32m    143\u001b[0m         \u001b[38;5;28;01mif\u001b[39;00m \u001b[38;5;28mlen\u001b[39m(\u001b[38;5;28mvars\u001b[39m) \u001b[38;5;241m!=\u001b[39m \u001b[38;5;28mlen\u001b[39m(parts) \u001b[38;5;241m-\u001b[39m \u001b[38;5;241m1\u001b[39m:\n\u001b[1;32m    144\u001b[0m             \u001b[38;5;28;01mraise\u001b[39;00m e\u001b[38;5;241m.\u001b[39mProgrammingError(\n\u001b[1;32m    145\u001b[0m                 \u001b[38;5;124mf\u001b[39m\u001b[38;5;124m\"\u001b[39m\u001b[38;5;124mthe query has \u001b[39m\u001b[38;5;132;01m{\u001b[39;00m\u001b[38;5;28mlen\u001b[39m(parts)\u001b[38;5;250m \u001b[39m\u001b[38;5;241m-\u001b[39m\u001b[38;5;250m \u001b[39m\u001b[38;5;241m1\u001b[39m\u001b[38;5;132;01m}\u001b[39;00m\u001b[38;5;124m placeholders but\u001b[39m\u001b[38;5;124m\"\u001b[39m\n\u001b[1;32m    146\u001b[0m                 \u001b[38;5;124mf\u001b[39m\u001b[38;5;124m\"\u001b[39m\u001b[38;5;124m \u001b[39m\u001b[38;5;132;01m{\u001b[39;00m\u001b[38;5;28mlen\u001b[39m(\u001b[38;5;28mvars\u001b[39m)\u001b[38;5;132;01m}\u001b[39;00m\u001b[38;5;124m parameters were passed\u001b[39m\u001b[38;5;124m\"\u001b[39m\n\u001b[1;32m    147\u001b[0m             )\n",
      "File \u001b[0;32m/opt/anaconda3/envs/baseball/lib/python3.11/site-packages/psycopg/_queries.py:128\u001b[0m, in \u001b[0;36mPostgresQuery.is_params_sequence\u001b[0;34m(vars)\u001b[0m\n\u001b[1;32m    126\u001b[0m     sequence \u001b[38;5;241m=\u001b[39m \u001b[38;5;28;01mFalse\u001b[39;00m\n\u001b[1;32m    127\u001b[0m \u001b[38;5;28;01melse\u001b[39;00m:\n\u001b[0;32m--> 128\u001b[0m     \u001b[38;5;28;01mraise\u001b[39;00m \u001b[38;5;167;01mTypeError\u001b[39;00m(\n\u001b[1;32m    129\u001b[0m         \u001b[38;5;124m\"\u001b[39m\u001b[38;5;124mquery parameters should be a sequence or a mapping,\u001b[39m\u001b[38;5;124m\"\u001b[39m\n\u001b[1;32m    130\u001b[0m         \u001b[38;5;124mf\u001b[39m\u001b[38;5;124m\"\u001b[39m\u001b[38;5;124m got \u001b[39m\u001b[38;5;132;01m{\u001b[39;00m\u001b[38;5;28mtype\u001b[39m(\u001b[38;5;28mvars\u001b[39m)\u001b[38;5;241m.\u001b[39m\u001b[38;5;18m__name__\u001b[39m\u001b[38;5;132;01m}\u001b[39;00m\u001b[38;5;124m\"\u001b[39m\n\u001b[1;32m    131\u001b[0m     )\n\u001b[1;32m    132\u001b[0m \u001b[38;5;28;01mreturn\u001b[39;00m sequence\n",
      "\u001b[0;31mTypeError\u001b[0m: query parameters should be a sequence or a mapping, got str"
     ]
    }
   ],
   "source": [
    "import_all_roster_data_files(RAW_DATA_DIR)"
   ]
  },
  {
   "cell_type": "code",
   "execution_count": null,
   "metadata": {},
   "outputs": [],
   "source": []
  }
 ],
 "metadata": {
  "kernelspec": {
   "display_name": "baseball",
   "language": "python",
   "name": "python3"
  },
  "language_info": {
   "codemirror_mode": {
    "name": "ipython",
    "version": 3
   },
   "file_extension": ".py",
   "mimetype": "text/x-python",
   "name": "python",
   "nbconvert_exporter": "python",
   "pygments_lexer": "ipython3",
   "version": "3.11.9"
  }
 },
 "nbformat": 4,
 "nbformat_minor": 2
}
