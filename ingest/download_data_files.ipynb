{
 "cells": [
  {
   "cell_type": "markdown",
   "metadata": {},
   "source": [
    "# Download data files from RetroSheet\n",
    "\n",
    "We are doing this once before the other processing to avoid hammering their website and potentially\n",
    "taking away something that is great and currently free!  Thank you retrosheet.org!\n",
    "\n",
    "https://www.retrosheet.org/eventfile.htm"
   ]
  },
  {
   "cell_type": "code",
   "execution_count": 27,
   "metadata": {},
   "outputs": [],
   "source": [
    "import urllib.request\n",
    "from datetime import datetime\n",
    "import os\n",
    "from zipfile import ZipFile"
   ]
  },
  {
   "cell_type": "code",
   "execution_count": 28,
   "metadata": {},
   "outputs": [],
   "source": [
    "DATA_DIR = \"../data\"\n",
    "ZIPS_DATA_DIR = DATA_DIR + \"/zips/\"\n",
    "RAW_DATA_DIR = DATA_DIR + \"/raw/\"\n",
    "\n",
    "RETROSHEET_URL = \"https://www.retrosheet.org\"\n",
    "RETROSHEET_EVENTS_URL = RETROSHEET_URL + \"/events/\"\n",
    "\n",
    "RETROSHEET_SEASON_FILE_SUFFIX = \"seve.zip\"\n",
    "RETROSHEET_SEASON_START_YEAR = 1910"
   ]
  },
  {
   "cell_type": "code",
   "execution_count": 29,
   "metadata": {},
   "outputs": [
    {
     "name": "stdout",
     "output_type": "stream",
     "text": [
      "Skipping file (already exists): ../data/zips/1910seve.zip\n",
      "Skipping file (already exists): ../data/zips/1920seve.zip\n",
      "Skipping file (already exists): ../data/zips/1930seve.zip\n",
      "Skipping file (already exists): ../data/zips/1940seve.zip\n",
      "Skipping file (already exists): ../data/zips/1950seve.zip\n",
      "Skipping file (already exists): ../data/zips/1960seve.zip\n",
      "Skipping file (already exists): ../data/zips/1970seve.zip\n",
      "Skipping file (already exists): ../data/zips/1980seve.zip\n",
      "Skipping file (already exists): ../data/zips/1990seve.zip\n",
      "Skipping file (already exists): ../data/zips/2000seve.zip\n",
      "Skipping file (already exists): ../data/zips/2010seve.zip\n",
      "Skipping file (already exists): ../data/zips/2020seve.zip\n"
     ]
    }
   ],
   "source": [
    "current_year = datetime.now().year\n",
    "year = RETROSHEET_SEASON_START_YEAR\n",
    "while year < current_year:\n",
    "    file = str(year) + RETROSHEET_SEASON_FILE_SUFFIX\n",
    "    local_file = ZIPS_DATA_DIR + file\n",
    "    if os.path.isfile(local_file):\n",
    "        print (\"Skipping file (already exists):\", local_file)\n",
    "    else:\n",
    "        url = RETROSHEET_EVENTS_URL + file\n",
    "        print (\"Downloading zip file...  URL <\", url, \"> LocalFile <\", local_file, \">\")\n",
    "        urllib.request.urlretrieve(url, local_file)\n",
    "        print (\"File downloaded:\", local_file)\n",
    "    \n",
    "    year += 10\n"
   ]
  },
  {
   "cell_type": "code",
   "execution_count": 31,
   "metadata": {},
   "outputs": [
    {
     "name": "stdout",
     "output_type": "stream",
     "text": [
      "File in zips directory to process: ../data/zips/1970seve.zip\n",
      "Unzipped file: ../data/zips/1970seve.zip\n",
      "File in zips directory to process: ../data/zips/1960seve.zip\n",
      "Unzipped file: ../data/zips/1960seve.zip\n",
      "File in zips directory to process: ../data/zips/2010seve.zip\n",
      "Unzipped file: ../data/zips/2010seve.zip\n",
      "File in zips directory to process: ../data/zips/2000seve.zip\n",
      "Unzipped file: ../data/zips/2000seve.zip\n",
      "File in zips directory to process: ../data/zips/1910seve.zip\n",
      "Unzipped file: ../data/zips/1910seve.zip\n",
      "File in zips directory to process: ../data/zips/2020seve.zip\n",
      "Unzipped file: ../data/zips/2020seve.zip\n",
      "File in zips directory to process: ../data/zips/1940seve.zip\n",
      "Unzipped file: ../data/zips/1940seve.zip\n",
      "File in zips directory to process: ../data/zips/1950seve.zip\n",
      "Unzipped file: ../data/zips/1950seve.zip\n",
      "File in zips directory to process: ../data/zips/1930seve.zip\n",
      "Unzipped file: ../data/zips/1930seve.zip\n",
      "File in zips directory to process: ../data/zips/1920seve.zip\n",
      "Unzipped file: ../data/zips/1920seve.zip\n",
      "File in zips directory to process: ../data/zips/1990seve.zip\n",
      "Unzipped file: ../data/zips/1990seve.zip\n",
      "File in zips directory to process: ../data/zips/1980seve.zip\n",
      "Unzipped file: ../data/zips/1980seve.zip\n"
     ]
    }
   ],
   "source": [
    "for file in os.listdir(ZIPS_DATA_DIR):\n",
    "    file_with_path = ZIPS_DATA_DIR + file\n",
    "    print (\"File in zips directory to process:\", file_with_path)\n",
    "\n",
    "    with ZipFile(file_with_path, 'r') as zip_ref:\n",
    "        zip_ref.extractall(RAW_DATA_DIR)\n",
    "        print (\"Unzipped file:\", file_with_path)\n"
   ]
  },
  {
   "cell_type": "code",
   "execution_count": null,
   "metadata": {},
   "outputs": [],
   "source": []
  }
 ],
 "metadata": {
  "kernelspec": {
   "display_name": "baseball",
   "language": "python",
   "name": "python3"
  },
  "language_info": {
   "codemirror_mode": {
    "name": "ipython",
    "version": 3
   },
   "file_extension": ".py",
   "mimetype": "text/x-python",
   "name": "python",
   "nbconvert_exporter": "python",
   "pygments_lexer": "ipython3",
   "version": "3.11.9"
  }
 },
 "nbformat": 4,
 "nbformat_minor": 2
}
