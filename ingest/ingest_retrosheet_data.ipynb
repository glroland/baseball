{
 "cells": [
  {
   "cell_type": "markdown",
   "metadata": {},
   "source": [
    "# Download data files from RetroSheet\n",
    "\n",
    "We are doing this once before the other processing to avoid hammering their website and potentially\n",
    "taking away something that is great and currently free!  Thank you retrosheet.org!\n",
    "\n",
    "https://www.retrosheet.org/eventfile.htm"
   ]
  },
  {
   "cell_type": "code",
   "execution_count": 2,
   "metadata": {},
   "outputs": [],
   "source": [
    "import logging\n",
    "from download_retrosheet_data import download_all_retrosheet_seasons\n",
    "from download_retrosheet_data import extract_retrosheet_zip_files\n",
    "from import_team_data import import_all_team_data_files"
   ]
  },
  {
   "cell_type": "code",
   "execution_count": 3,
   "metadata": {},
   "outputs": [],
   "source": [
    "DATA_DIR = \"../data\"\n",
    "\n",
    "ZIPS_DATA_DIR = DATA_DIR + \"/zips/\"\n",
    "RAW_DATA_DIR = DATA_DIR + \"/raw/\""
   ]
  },
  {
   "cell_type": "code",
   "execution_count": null,
   "metadata": {},
   "outputs": [],
   "source": [
    "logging.basicConfig(level=logging.DEBUG,\n",
    "    handlers=[\n",
    "        # no need - logging.FileHandler(\"baseball-ingest.log\"),\n",
    "        logging.StreamHandler()\n",
    "    ])"
   ]
  },
  {
   "cell_type": "code",
   "execution_count": 4,
   "metadata": {},
   "outputs": [],
   "source": [
    "download_all_retrosheet_seasons(ZIPS_DATA_DIR)"
   ]
  },
  {
   "cell_type": "code",
   "execution_count": 5,
   "metadata": {},
   "outputs": [],
   "source": [
    "extract_retrosheet_zip_files(ZIPS_DATA_DIR, RAW_DATA_DIR)"
   ]
  },
  {
   "cell_type": "code",
   "execution_count": null,
   "metadata": {},
   "outputs": [],
   "source": [
    "import_all_team_data_files(RAW_DATA_DIR)"
   ]
  }
 ],
 "metadata": {
  "kernelspec": {
   "display_name": "baseball",
   "language": "python",
   "name": "python3"
  },
  "language_info": {
   "codemirror_mode": {
    "name": "ipython",
    "version": 3
   },
   "file_extension": ".py",
   "mimetype": "text/x-python",
   "name": "python",
   "nbconvert_exporter": "python",
   "pygments_lexer": "ipython3",
   "version": "3.11.9"
  }
 },
 "nbformat": 4,
 "nbformat_minor": 2
}
