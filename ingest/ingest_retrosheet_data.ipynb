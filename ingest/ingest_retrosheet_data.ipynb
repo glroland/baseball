{
 "cells": [
  {
   "cell_type": "markdown",
   "metadata": {},
   "source": [
    "# Download data files from RetroSheet\n",
    "\n",
    "We are doing this once before the other processing to avoid hammering their website and potentially\n",
    "taking away something that is great and currently free!  Thank you retrosheet.org!\n",
    "\n",
    "https://www.retrosheet.org/eventfile.htm"
   ]
  },
  {
   "cell_type": "code",
   "execution_count": 1,
   "metadata": {},
   "outputs": [],
   "source": [
    "import logging\n",
    "from download_retrosheet_data import download_all_retrosheet_seasons\n",
    "from download_retrosheet_data import extract_retrosheet_zip_files\n",
    "from import_team_data import import_all_team_data_files\n",
    "from import_roster_data import import_all_roster_data_files"
   ]
  },
  {
   "cell_type": "code",
   "execution_count": 2,
   "metadata": {},
   "outputs": [],
   "source": [
    "DATA_DIR = \"../data\"\n",
    "\n",
    "ZIPS_DATA_DIR = DATA_DIR + \"/zips/\"\n",
    "RAW_DATA_DIR = DATA_DIR + \"/raw/\""
   ]
  },
  {
   "cell_type": "code",
   "execution_count": 3,
   "metadata": {},
   "outputs": [],
   "source": [
    "logging.basicConfig(level=logging.DEBUG,\n",
    "    handlers=[\n",
    "        # no need - logging.FileHandler(\"baseball-ingest.log\"),\n",
    "        logging.StreamHandler()\n",
    "    ])"
   ]
  },
  {
   "cell_type": "code",
   "execution_count": 4,
   "metadata": {},
   "outputs": [],
   "source": [
    "download_all_retrosheet_seasons(ZIPS_DATA_DIR)"
   ]
  },
  {
   "cell_type": "code",
   "execution_count": 5,
   "metadata": {},
   "outputs": [],
   "source": [
    "extract_retrosheet_zip_files(ZIPS_DATA_DIR, RAW_DATA_DIR)"
   ]
  },
  {
   "cell_type": "code",
   "execution_count": null,
   "metadata": {},
   "outputs": [],
   "source": [
    "import_all_team_data_files(RAW_DATA_DIR)"
   ]
  },
  {
   "cell_type": "code",
   "execution_count": 4,
   "metadata": {},
   "outputs": [
    {
     "name": "stderr",
     "output_type": "stream",
     "text": [
      "INFO:import_roster_data:Importing Roster Data Files from Directory: ../data/raw/\n",
      "INFO:import_roster_data:Importing Roster Data File: ../data/raw/CLE1945.ROS\n",
      "DEBUG:db_utils:Connecting to database.\n",
      "DEBUG:import_roster_data:Inserting Player Record.  Year=194, Code=bagbj102, LastName=Bagby, FirstName=Jim, ThrowHand=R, BatHand=R, TeamCode=CLE, Position=P\n"
     ]
    },
    {
     "ename": "UndefinedTable",
     "evalue": "relation \"rosters\" does not exist\nLINE 1: select count(*) from Rosters where season_year=$1 and player...\n                             ^",
     "output_type": "error",
     "traceback": [
      "\u001b[0;31m---------------------------------------------------------------------------\u001b[0m",
      "\u001b[0;31mUndefinedTable\u001b[0m                            Traceback (most recent call last)",
      "Cell \u001b[0;32mIn[4], line 1\u001b[0m\n\u001b[0;32m----> 1\u001b[0m \u001b[43mimport_all_roster_data_files\u001b[49m\u001b[43m(\u001b[49m\u001b[43mRAW_DATA_DIR\u001b[49m\u001b[43m)\u001b[49m\n",
      "File \u001b[0;32m~/Projects/github.com/baseball/ingest/import_roster_data.py:110\u001b[0m, in \u001b[0;36mimport_all_roster_data_files\u001b[0;34m(directory)\u001b[0m\n\u001b[1;32m    108\u001b[0m \u001b[38;5;28;01mfor\u001b[39;00m file \u001b[38;5;129;01min\u001b[39;00m os\u001b[38;5;241m.\u001b[39mlistdir(directory):\n\u001b[1;32m    109\u001b[0m     \u001b[38;5;28;01mif\u001b[39;00m file\u001b[38;5;241m.\u001b[39mendswith(ROSTER_FILE_EXTENSION):\n\u001b[0;32m--> 110\u001b[0m         \u001b[43mimport_roster_data_file\u001b[49m\u001b[43m(\u001b[49m\u001b[43mfile\u001b[49m\u001b[43m,\u001b[49m\u001b[43m \u001b[49m\u001b[43mdirectory\u001b[49m\u001b[43m)\u001b[49m\n\u001b[1;32m    111\u001b[0m logger\u001b[38;5;241m.\u001b[39mdebug(\u001b[38;5;124m\"\u001b[39m\u001b[38;5;124mAll files imported\u001b[39m\u001b[38;5;124m\"\u001b[39m)\n",
      "File \u001b[0;32m~/Projects/github.com/baseball/ingest/import_roster_data.py:86\u001b[0m, in \u001b[0;36mimport_roster_data_file\u001b[0;34m(file, directory)\u001b[0m\n\u001b[1;32m     83\u001b[0m             team_code \u001b[38;5;241m=\u001b[39m row[\u001b[38;5;241m5\u001b[39m]\n\u001b[1;32m     84\u001b[0m             position \u001b[38;5;241m=\u001b[39m row[\u001b[38;5;241m6\u001b[39m]\n\u001b[0;32m---> 86\u001b[0m             \u001b[43minsert_roster_record\u001b[49m\u001b[43m(\u001b[49m\u001b[43msql_cursor\u001b[49m\u001b[43m,\u001b[49m\n\u001b[1;32m     87\u001b[0m \u001b[43m                                 \u001b[49m\u001b[43myear\u001b[49m\u001b[43m,\u001b[49m\n\u001b[1;32m     88\u001b[0m \u001b[43m                                 \u001b[49m\u001b[43mplayer_code\u001b[49m\u001b[43m,\u001b[49m\n\u001b[1;32m     89\u001b[0m \u001b[43m                                 \u001b[49m\u001b[43mlast_name\u001b[49m\u001b[43m,\u001b[49m\n\u001b[1;32m     90\u001b[0m \u001b[43m                                 \u001b[49m\u001b[43mfirst_name\u001b[49m\u001b[43m,\u001b[49m\n\u001b[1;32m     91\u001b[0m \u001b[43m                                 \u001b[49m\u001b[43mthrow_hand\u001b[49m\u001b[43m,\u001b[49m\n\u001b[1;32m     92\u001b[0m \u001b[43m                                 \u001b[49m\u001b[43mbatting_hand\u001b[49m\u001b[43m,\u001b[49m\n\u001b[1;32m     93\u001b[0m \u001b[43m                                 \u001b[49m\u001b[43mteam_code\u001b[49m\u001b[43m,\u001b[49m\n\u001b[1;32m     94\u001b[0m \u001b[43m                                 \u001b[49m\u001b[43mposition\u001b[49m\u001b[43m)\u001b[49m\n\u001b[1;32m     96\u001b[0m sql_connection\u001b[38;5;241m.\u001b[39mcommit()\n\u001b[1;32m     98\u001b[0m logger\u001b[38;5;241m.\u001b[39mdebug(\u001b[38;5;124m\"\u001b[39m\u001b[38;5;124mDeleting file after successful processing: \u001b[39m\u001b[38;5;132;01m%s\u001b[39;00m\u001b[38;5;124m\"\u001b[39m, data_file)\n",
      "File \u001b[0;32m~/Projects/github.com/baseball/ingest/import_roster_data.py:36\u001b[0m, in \u001b[0;36minsert_roster_record\u001b[0;34m(sql_cursor, year, player_code, last_name, first_name, throw_hand, batting_hand, team_code, position)\u001b[0m\n\u001b[1;32m     28\u001b[0m select_sql \u001b[38;5;241m=\u001b[39m \u001b[38;5;124m\"\u001b[39m\u001b[38;5;124mselect count(*) \u001b[39m\u001b[38;5;124m\"\u001b[39m \\\n\u001b[1;32m     29\u001b[0m              \u001b[38;5;124m\"\u001b[39m\u001b[38;5;124mfrom Rosters \u001b[39m\u001b[38;5;124m\"\u001b[39m \\\n\u001b[1;32m     30\u001b[0m              \u001b[38;5;124m\"\u001b[39m\u001b[38;5;124mwhere season_year=\u001b[39m\u001b[38;5;132;01m%s\u001b[39;00m\u001b[38;5;124m and player_code = \u001b[39m\u001b[38;5;132;01m%s\u001b[39;00m\u001b[38;5;124m\"\u001b[39m\n\u001b[1;32m     32\u001b[0m insert_sql \u001b[38;5;241m=\u001b[39m \u001b[38;5;124m\"\u001b[39m\u001b[38;5;124minsert into Rosters (season_year, player_code, last_name, first_name, \u001b[39m\u001b[38;5;124m\"\u001b[39m \\\n\u001b[1;32m     33\u001b[0m                                   \u001b[38;5;124m\"\u001b[39m\u001b[38;5;124mthrow_hand, batting_hand, team_code, position) \u001b[39m\u001b[38;5;124m\"\u001b[39m \\\n\u001b[1;32m     34\u001b[0m              \u001b[38;5;124m\"\u001b[39m\u001b[38;5;124mvalues (\u001b[39m\u001b[38;5;132;01m%s\u001b[39;00m\u001b[38;5;124m, \u001b[39m\u001b[38;5;132;01m%s\u001b[39;00m\u001b[38;5;124m, \u001b[39m\u001b[38;5;132;01m%s\u001b[39;00m\u001b[38;5;124m, \u001b[39m\u001b[38;5;132;01m%s\u001b[39;00m\u001b[38;5;124m, \u001b[39m\u001b[38;5;132;01m%s\u001b[39;00m\u001b[38;5;124m, \u001b[39m\u001b[38;5;132;01m%s\u001b[39;00m\u001b[38;5;124m, \u001b[39m\u001b[38;5;132;01m%s\u001b[39;00m\u001b[38;5;124m, \u001b[39m\u001b[38;5;132;01m%s\u001b[39;00m\u001b[38;5;124m)\u001b[39m\u001b[38;5;124m\"\u001b[39m\n\u001b[0;32m---> 36\u001b[0m \u001b[43msql_cursor\u001b[49m\u001b[38;5;241;43m.\u001b[39;49m\u001b[43mexecute\u001b[49m\u001b[43m(\u001b[49m\u001b[43mselect_sql\u001b[49m\u001b[43m,\u001b[49m\n\u001b[1;32m     37\u001b[0m \u001b[43m    \u001b[49m\u001b[43m(\u001b[49m\n\u001b[1;32m     38\u001b[0m \u001b[43m        \u001b[49m\u001b[43myear\u001b[49m\u001b[43m,\u001b[49m\n\u001b[1;32m     39\u001b[0m \u001b[43m        \u001b[49m\u001b[43mplayer_code\u001b[49m\n\u001b[1;32m     40\u001b[0m \u001b[43m    \u001b[49m\u001b[43m)\u001b[49m\n\u001b[1;32m     41\u001b[0m \u001b[43m\u001b[49m\u001b[43m)\u001b[49m\n\u001b[1;32m     42\u001b[0m count \u001b[38;5;241m=\u001b[39m sql_cursor\u001b[38;5;241m.\u001b[39mfetchone()\n\u001b[1;32m     44\u001b[0m \u001b[38;5;28;01mif\u001b[39;00m count[\u001b[38;5;241m0\u001b[39m] \u001b[38;5;241m!=\u001b[39m \u001b[38;5;241m0\u001b[39m:\n",
      "File \u001b[0;32m/opt/anaconda3/envs/baseball/lib/python3.11/site-packages/psycopg/cursor.py:97\u001b[0m, in \u001b[0;36mCursor.execute\u001b[0;34m(self, query, params, prepare, binary)\u001b[0m\n\u001b[1;32m     93\u001b[0m         \u001b[38;5;28mself\u001b[39m\u001b[38;5;241m.\u001b[39m_conn\u001b[38;5;241m.\u001b[39mwait(\n\u001b[1;32m     94\u001b[0m             \u001b[38;5;28mself\u001b[39m\u001b[38;5;241m.\u001b[39m_execute_gen(query, params, prepare\u001b[38;5;241m=\u001b[39mprepare, binary\u001b[38;5;241m=\u001b[39mbinary)\n\u001b[1;32m     95\u001b[0m         )\n\u001b[1;32m     96\u001b[0m \u001b[38;5;28;01mexcept\u001b[39;00m e\u001b[38;5;241m.\u001b[39m_NO_TRACEBACK \u001b[38;5;28;01mas\u001b[39;00m ex:\n\u001b[0;32m---> 97\u001b[0m     \u001b[38;5;28;01mraise\u001b[39;00m ex\u001b[38;5;241m.\u001b[39mwith_traceback(\u001b[38;5;28;01mNone\u001b[39;00m)\n\u001b[1;32m     98\u001b[0m \u001b[38;5;28;01mreturn\u001b[39;00m \u001b[38;5;28mself\u001b[39m\n",
      "\u001b[0;31mUndefinedTable\u001b[0m: relation \"rosters\" does not exist\nLINE 1: select count(*) from Rosters where season_year=$1 and player...\n                             ^"
     ]
    }
   ],
   "source": [
    "import_all_roster_data_files(RAW_DATA_DIR)"
   ]
  },
  {
   "cell_type": "code",
   "execution_count": null,
   "metadata": {},
   "outputs": [],
   "source": []
  }
 ],
 "metadata": {
  "kernelspec": {
   "display_name": "baseball",
   "language": "python",
   "name": "python3"
  },
  "language_info": {
   "codemirror_mode": {
    "name": "ipython",
    "version": 3
   },
   "file_extension": ".py",
   "mimetype": "text/x-python",
   "name": "python",
   "nbconvert_exporter": "python",
   "pygments_lexer": "ipython3",
   "version": "3.11.9"
  }
 },
 "nbformat": 4,
 "nbformat_minor": 2
}
