{
 "cells": [
  {
   "cell_type": "markdown",
   "metadata": {},
   "source": [
    "# Download data files from RetroSheet\n",
    "\n",
    "We are doing this once before the other processing to avoid hammering their website and potentially\n",
    "taking away something that is great and currently free!  Thank you retrosheet.org!\n",
    "\n",
    "https://www.retrosheet.org/eventfile.htm"
   ]
  },
  {
   "cell_type": "code",
   "execution_count": null,
   "metadata": {},
   "outputs": [],
   "source": [
    "import logging\n",
    "import os\n",
    "from download_retrosheet_data import download_all_retrosheet_seasons\n",
    "from download_retrosheet_data import extract_retrosheet_zip_files\n",
    "from import_team_data import import_all_team_data_files\n",
    "from import_roster_data import import_all_roster_data_files"
   ]
  },
  {
   "cell_type": "code",
   "execution_count": null,
   "metadata": {},
   "outputs": [],
   "source": [
    "DATA_DIR = \"../../../target\"\n",
    "\n",
    "ZIPS_DATA_DIR = DATA_DIR + \"/zips/\"\n",
    "RAW_DATA_DIR = DATA_DIR + \"/raw/\""
   ]
  },
  {
   "cell_type": "code",
   "execution_count": null,
   "metadata": {},
   "outputs": [],
   "source": [
    "logging.basicConfig(level=logging.DEBUG,\n",
    "    handlers=[\n",
    "        # no need - logging.FileHandler(\"baseball-ingest.log\"),\n",
    "        logging.StreamHandler()\n",
    "    ])"
   ]
  },
  {
   "cell_type": "code",
   "execution_count": null,
   "metadata": {},
   "outputs": [],
   "source": [
    "if not os.path.exists(DATA_DIR):\n",
    "     os.mkdir(DATA_DIR)\n",
    "elif not os.path.isdir(DATA_DIR):\n",
    "    raise ValueError(\"Unrecoverable error!  DATA_DIR exists but is not a directory.\")"
   ]
  },
  {
   "cell_type": "code",
   "execution_count": null,
   "metadata": {},
   "outputs": [],
   "source": [
    "download_all_retrosheet_seasons(ZIPS_DATA_DIR)"
   ]
  },
  {
   "cell_type": "code",
   "execution_count": null,
   "metadata": {},
   "outputs": [],
   "source": [
    "extract_retrosheet_zip_files(ZIPS_DATA_DIR, RAW_DATA_DIR)"
   ]
  },
  {
   "cell_type": "code",
   "execution_count": null,
   "metadata": {},
   "outputs": [],
   "source": [
    "import_all_team_data_files(RAW_DATA_DIR)"
   ]
  },
  {
   "cell_type": "code",
   "execution_count": null,
   "metadata": {},
   "outputs": [],
   "source": [
    "import_all_roster_data_files(RAW_DATA_DIR)"
   ]
  },
  {
   "cell_type": "code",
   "execution_count": null,
   "metadata": {},
   "outputs": [],
   "source": []
  }
 ],
 "metadata": {
  "kernelspec": {
   "display_name": "baseball",
   "language": "python",
   "name": "python3"
  },
  "language_info": {
   "codemirror_mode": {
    "name": "ipython",
    "version": 3
   },
   "file_extension": ".py",
   "mimetype": "text/x-python",
   "name": "python",
   "nbconvert_exporter": "python",
   "pygments_lexer": "ipython3",
   "version": "3.11.10"
  }
 },
 "nbformat": 4,
 "nbformat_minor": 2
}
