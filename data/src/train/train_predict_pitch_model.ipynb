{
 "cells": [
  {
   "cell_type": "markdown",
   "metadata": {},
   "source": [
    "# Train Pitch Type Prediction Model"
   ]
  },
  {
   "cell_type": "markdown",
   "metadata": {},
   "source": [
    "Starting with the most simplicistic prediction, the goal with this experiment is to predict whether a pitcher will pitch a ball or a strike, given a basic game scenario.\n",
    "\n",
    "Ideas for getting better accuracy:\n",
    "- Filter data based on pitcher (and catcher?).  Do not think this will work because of model training aspect - not transactional.\n",
    "- Is the game packed or is it empty?\n",
    "- Is it at night?\n",
    "- Is it cold?\n",
    "- Is it raining?"
   ]
  },
  {
   "cell_type": "code",
   "execution_count": 1,
   "metadata": {},
   "outputs": [],
   "source": [
    "import os\n",
    "import torch\n",
    "import torch.nn as nn\n",
    "from sklearn.model_selection import train_test_split\n",
    "\n",
    "from train_tools import SCALER_SUFFIX\n",
    "\n",
    "from train_tools import acquire_data, drop_column, get_config_value\n",
    "from train_tools import scale_int_values, extract_categorical_columns\n",
    "from train_tools import replace_populated_values_with_tf_num, replace_boolean_values_with_tf_num\n",
    "from train_tools import model_train, save_model, evaluate_model"
   ]
  },
  {
   "cell_type": "code",
   "execution_count": 2,
   "metadata": {},
   "outputs": [],
   "source": [
    "DEFAULT_DB_CONNECTION_STRING = \"postgresql://baseball_app:baseball123@db/baseball_db\"\n",
    "ENV_DB_CONNECTION_STRING = \"DB_CONNECTION_STRING\"\n",
    "\n",
    "DEFAULT_OUTPUT_DIR = \"../../../target/models/predict_pitch/\"\n",
    "ENV_OUTPUT_DIR = \"OUTPUT_DIR\"\n",
    "\n",
    "ONNX_FILENAME = \"model.onnx\"\n",
    "ROC_IMAGE_NAME = \"roc.jpg\"\n",
    "\n",
    "ENV_DATASET_SIZE = \"DATASET_SIZE\"\n",
    "DEFAULT_DATASET_SIZE = 5000\n",
    "\n",
    "NEURAL_NETWORK_WIDTH = 10"
   ]
  },
  {
   "cell_type": "code",
   "execution_count": 3,
   "metadata": {},
   "outputs": [
    {
     "name": "stdout",
     "output_type": "stream",
     "text": [
      "Output Directory: /opt/app-root/src/baseball/target/models/predict_pitch\n"
     ]
    }
   ],
   "source": [
    "output_dir_configured = get_config_value(ENV_OUTPUT_DIR, DEFAULT_OUTPUT_DIR)\n",
    "output_dir = os.path.abspath(output_dir_configured)\n",
    "print (\"Output Directory: \" + output_dir)\n",
    "\n",
    "# ensure the model directory exists\n",
    "if not os.path.exists(output_dir):\n",
    "    print (\"Creating output directory: \" + output_dir)\n",
    "    os.makedirs(output_dir)"
   ]
  },
  {
   "cell_type": "markdown",
   "metadata": {},
   "source": [
    "## Acquire Data\n",
    "\n",
    "Pull relevant attributes from the baseball database as a DataFrame for analysis and training."
   ]
  },
  {
   "cell_type": "code",
   "execution_count": 4,
   "metadata": {},
   "outputs": [
    {
     "name": "stdout",
     "output_type": "stream",
     "text": [
      "Data Set Size: 5000\n"
     ]
    }
   ],
   "source": [
    "dataset_size = get_config_value(ENV_DATASET_SIZE, DEFAULT_DATASET_SIZE)\n",
    "if dataset_size is not None and isinstance(dataset_size, str) and len(dataset_size) > 0:\n",
    "    dataset_size = int(dataset_size)\n",
    "print (\"Data Set Size: \" + str(dataset_size))"
   ]
  },
  {
   "cell_type": "code",
   "execution_count": 5,
   "metadata": {},
   "outputs": [
    {
     "name": "stdout",
     "output_type": "stream",
     "text": [
      "<class 'pandas.core.frame.DataFrame'>\n",
      "RangeIndex: 5000 entries, 0 to 4999\n",
      "Data columns (total 21 columns):\n",
      " #   Column           Non-Null Count  Dtype  \n",
      "---  ------           --------------  -----  \n",
      " 0   r_id             5000 non-null   float64\n",
      " 1   player_code      5000 non-null   object \n",
      " 2   pitch_index      5000 non-null   int64  \n",
      " 3   pitch_type_cd    5000 non-null   object \n",
      " 4   home_team_flag   5000 non-null   bool   \n",
      " 5   score_home       5000 non-null   int64  \n",
      " 6   score_visitor    5000 non-null   int64  \n",
      " 7   sky              5000 non-null   object \n",
      " 8   night_flag       5000 non-null   bool   \n",
      " 9   temperature      5000 non-null   int64  \n",
      " 10  wind_direction   5000 non-null   object \n",
      " 11  wind_speed       5000 non-null   int64  \n",
      " 12  precipitation    5000 non-null   object \n",
      " 13  field_condition  5000 non-null   object \n",
      " 14  batting_hand     5000 non-null   object \n",
      " 15  pitching_hand    5000 non-null   object \n",
      " 16  runner_1b        2004 non-null   object \n",
      " 17  runner_2b        1391 non-null   object \n",
      " 18  runner_3b        732 non-null    object \n",
      " 19  ball_or_strike   5000 non-null   object \n",
      " 20  pitch_count      5000 non-null   int64  \n",
      "dtypes: bool(2), float64(1), int64(6), object(12)\n",
      "memory usage: 752.1+ KB\n"
     ]
    }
   ],
   "source": [
    "sql = \"\"\"\n",
    "        select random() as r_id, game_play_atbat.player_code as player_code, pitch_index, pitch_type.pitch_type_cd as pitch_type_cd, home_team_flag, game_play_atbat.score_home as score_home, game_play_atbat.score_visitor as score_visitor, sky, night_flag, temperature, wind_direction, wind_speed, precipitation, field_condition, roster_batter.batting_hand as batting_hand, roster_pitcher.throw_hand as pitching_hand, runner_1b, runner_2b, runner_3b, ball_or_strike, pitch_count\n",
    "        from game, game_play, game_play_atbat, game_play_atbat_pitch, roster as roster_batter, roster as roster_pitcher, pitch_type\n",
    "        where game.game_id = game_play.game_id\n",
    "        and game_play_atbat.game_play_id = game_play.game_play_id\n",
    "        and game_play_atbat_pitch.game_play_id = game_play.game_play_id\n",
    "        and roster_batter.player_code = game_play_atbat.player_code\n",
    "        and roster_batter.season_year = date_part('year', game.game_date)\n",
    "        and roster_pitcher.player_code = game_play_atbat.pitcher\n",
    "        and roster_pitcher.season_year = roster_batter.season_year\n",
    "        and pitch_type.pitch_type_cd = game_play_atbat_pitch.pitch_type_cd\n",
    "        and pitch_type.ball_or_strike is not null\n",
    "        order by r_id  \n",
    "      \"\"\"\n",
    "\n",
    "db_conn_str = get_config_value(ENV_DB_CONNECTION_STRING, DEFAULT_DB_CONNECTION_STRING)\n",
    "full_df = acquire_data(db_conn_str, sql, dataset_size)\n",
    "\n",
    "full_df.info()"
   ]
  },
  {
   "cell_type": "code",
   "execution_count": 6,
   "metadata": {},
   "outputs": [],
   "source": [
    "def calculate_score_deficit(row):\n",
    "    is_home = row[\"home_team_flag\"]\n",
    "    score_home = row[\"score_home\"]\n",
    "    score_visitor = row[\"score_visitor\"]\n",
    "\n",
    "    if is_home:\n",
    "        return score_home - score_visitor\n",
    "    else:\n",
    "        return score_visitor - score_home\n",
    "\n",
    "full_df['score_deficit'] = full_df.apply(lambda x: calculate_score_deficit(x), axis=1)"
   ]
  },
  {
   "cell_type": "code",
   "execution_count": 7,
   "metadata": {},
   "outputs": [
    {
     "data": {
      "text/html": [
       "<div>\n",
       "<style scoped>\n",
       "    .dataframe tbody tr th:only-of-type {\n",
       "        vertical-align: middle;\n",
       "    }\n",
       "\n",
       "    .dataframe tbody tr th {\n",
       "        vertical-align: top;\n",
       "    }\n",
       "\n",
       "    .dataframe thead th {\n",
       "        text-align: right;\n",
       "    }\n",
       "</style>\n",
       "<table border=\"1\" class=\"dataframe\">\n",
       "  <thead>\n",
       "    <tr style=\"text-align: right;\">\n",
       "      <th></th>\n",
       "      <th>r_id</th>\n",
       "      <th>player_code</th>\n",
       "      <th>pitch_index</th>\n",
       "      <th>pitch_type_cd</th>\n",
       "      <th>home_team_flag</th>\n",
       "      <th>score_home</th>\n",
       "      <th>score_visitor</th>\n",
       "      <th>sky</th>\n",
       "      <th>night_flag</th>\n",
       "      <th>temperature</th>\n",
       "      <th>...</th>\n",
       "      <th>precipitation</th>\n",
       "      <th>field_condition</th>\n",
       "      <th>batting_hand</th>\n",
       "      <th>pitching_hand</th>\n",
       "      <th>runner_1b</th>\n",
       "      <th>runner_2b</th>\n",
       "      <th>runner_3b</th>\n",
       "      <th>ball_or_strike</th>\n",
       "      <th>pitch_count</th>\n",
       "      <th>score_deficit</th>\n",
       "    </tr>\n",
       "  </thead>\n",
       "  <tbody>\n",
       "    <tr>\n",
       "      <th>0</th>\n",
       "      <td>7.578407e-08</td>\n",
       "      <td>romia002</td>\n",
       "      <td>5</td>\n",
       "      <td>B</td>\n",
       "      <td>False</td>\n",
       "      <td>0</td>\n",
       "      <td>3</td>\n",
       "      <td>sunny</td>\n",
       "      <td>True</td>\n",
       "      <td>93</td>\n",
       "      <td>...</td>\n",
       "      <td>unknown</td>\n",
       "      <td>unknown</td>\n",
       "      <td>R</td>\n",
       "      <td>L</td>\n",
       "      <td>romia002</td>\n",
       "      <td>torrg001</td>\n",
       "      <td>walkn001</td>\n",
       "      <td>B</td>\n",
       "      <td>59</td>\n",
       "      <td>3</td>\n",
       "    </tr>\n",
       "    <tr>\n",
       "      <th>1</th>\n",
       "      <td>8.532937e-08</td>\n",
       "      <td>guilj001</td>\n",
       "      <td>2</td>\n",
       "      <td>B</td>\n",
       "      <td>False</td>\n",
       "      <td>2</td>\n",
       "      <td>4</td>\n",
       "      <td>overcast</td>\n",
       "      <td>True</td>\n",
       "      <td>71</td>\n",
       "      <td>...</td>\n",
       "      <td>unknown</td>\n",
       "      <td>unknown</td>\n",
       "      <td>R</td>\n",
       "      <td>L</td>\n",
       "      <td>None</td>\n",
       "      <td>None</td>\n",
       "      <td>None</td>\n",
       "      <td>B</td>\n",
       "      <td>91</td>\n",
       "      <td>2</td>\n",
       "    </tr>\n",
       "    <tr>\n",
       "      <th>2</th>\n",
       "      <td>1.353017e-07</td>\n",
       "      <td>rojam002</td>\n",
       "      <td>3</td>\n",
       "      <td>B</td>\n",
       "      <td>False</td>\n",
       "      <td>8</td>\n",
       "      <td>3</td>\n",
       "      <td>dome</td>\n",
       "      <td>True</td>\n",
       "      <td>74</td>\n",
       "      <td>...</td>\n",
       "      <td>none</td>\n",
       "      <td>unknown</td>\n",
       "      <td>R</td>\n",
       "      <td>L</td>\n",
       "      <td>None</td>\n",
       "      <td>None</td>\n",
       "      <td>None</td>\n",
       "      <td>B</td>\n",
       "      <td>118</td>\n",
       "      <td>-5</td>\n",
       "    </tr>\n",
       "    <tr>\n",
       "      <th>3</th>\n",
       "      <td>2.423395e-07</td>\n",
       "      <td>hafnt001</td>\n",
       "      <td>3</td>\n",
       "      <td>F</td>\n",
       "      <td>True</td>\n",
       "      <td>2</td>\n",
       "      <td>5</td>\n",
       "      <td>unknown</td>\n",
       "      <td>True</td>\n",
       "      <td>70</td>\n",
       "      <td>...</td>\n",
       "      <td>unknown</td>\n",
       "      <td>unknown</td>\n",
       "      <td>R</td>\n",
       "      <td>R</td>\n",
       "      <td>None</td>\n",
       "      <td>None</td>\n",
       "      <td>None</td>\n",
       "      <td>S</td>\n",
       "      <td>151</td>\n",
       "      <td>-3</td>\n",
       "    </tr>\n",
       "    <tr>\n",
       "      <th>4</th>\n",
       "      <td>3.822975e-07</td>\n",
       "      <td>pettj001</td>\n",
       "      <td>9</td>\n",
       "      <td>C</td>\n",
       "      <td>True</td>\n",
       "      <td>3</td>\n",
       "      <td>1</td>\n",
       "      <td>sunny</td>\n",
       "      <td>True</td>\n",
       "      <td>78</td>\n",
       "      <td>...</td>\n",
       "      <td>unknown</td>\n",
       "      <td>unknown</td>\n",
       "      <td>R</td>\n",
       "      <td>L</td>\n",
       "      <td>frank001</td>\n",
       "      <td>None</td>\n",
       "      <td>None</td>\n",
       "      <td>S</td>\n",
       "      <td>36</td>\n",
       "      <td>2</td>\n",
       "    </tr>\n",
       "  </tbody>\n",
       "</table>\n",
       "<p>5 rows × 22 columns</p>\n",
       "</div>"
      ],
      "text/plain": [
       "           r_id player_code  pitch_index pitch_type_cd  home_team_flag  \\\n",
       "0  7.578407e-08    romia002            5             B           False   \n",
       "1  8.532937e-08    guilj001            2             B           False   \n",
       "2  1.353017e-07    rojam002            3             B           False   \n",
       "3  2.423395e-07    hafnt001            3             F            True   \n",
       "4  3.822975e-07    pettj001            9             C            True   \n",
       "\n",
       "   score_home  score_visitor       sky  night_flag  temperature  ...  \\\n",
       "0           0              3     sunny        True           93  ...   \n",
       "1           2              4  overcast        True           71  ...   \n",
       "2           8              3      dome        True           74  ...   \n",
       "3           2              5   unknown        True           70  ...   \n",
       "4           3              1     sunny        True           78  ...   \n",
       "\n",
       "  precipitation  field_condition batting_hand pitching_hand runner_1b  \\\n",
       "0       unknown          unknown            R             L  romia002   \n",
       "1       unknown          unknown            R             L      None   \n",
       "2          none          unknown            R             L      None   \n",
       "3       unknown          unknown            R             R      None   \n",
       "4       unknown          unknown            R             L  frank001   \n",
       "\n",
       "  runner_2b runner_3b ball_or_strike pitch_count score_deficit  \n",
       "0  torrg001  walkn001              B          59             3  \n",
       "1      None      None              B          91             2  \n",
       "2      None      None              B         118            -5  \n",
       "3      None      None              S         151            -3  \n",
       "4      None      None              S          36             2  \n",
       "\n",
       "[5 rows x 22 columns]"
      ]
     },
     "execution_count": 7,
     "metadata": {},
     "output_type": "execute_result"
    }
   ],
   "source": [
    "full_df.head()"
   ]
  },
  {
   "cell_type": "markdown",
   "metadata": {},
   "source": [
    "## Prepare Data for Model Training\n",
    "\n",
    "Prepare data for classification."
   ]
  },
  {
   "cell_type": "code",
   "execution_count": 8,
   "metadata": {},
   "outputs": [
    {
     "data": {
      "text/html": [
       "<div>\n",
       "<style scoped>\n",
       "    .dataframe tbody tr th:only-of-type {\n",
       "        vertical-align: middle;\n",
       "    }\n",
       "\n",
       "    .dataframe tbody tr th {\n",
       "        vertical-align: top;\n",
       "    }\n",
       "\n",
       "    .dataframe thead th {\n",
       "        text-align: right;\n",
       "    }\n",
       "</style>\n",
       "<table border=\"1\" class=\"dataframe\">\n",
       "  <thead>\n",
       "    <tr style=\"text-align: right;\">\n",
       "      <th></th>\n",
       "      <th>pitch_index</th>\n",
       "      <th>runner_1b</th>\n",
       "      <th>runner_2b</th>\n",
       "      <th>runner_3b</th>\n",
       "      <th>home_team_flag</th>\n",
       "      <th>score_deficit</th>\n",
       "      <th>night_flag</th>\n",
       "      <th>pitch_count</th>\n",
       "      <th>ball_or_strike</th>\n",
       "    </tr>\n",
       "  </thead>\n",
       "  <tbody>\n",
       "    <tr>\n",
       "      <th>0</th>\n",
       "      <td>5</td>\n",
       "      <td>romia002</td>\n",
       "      <td>torrg001</td>\n",
       "      <td>walkn001</td>\n",
       "      <td>False</td>\n",
       "      <td>3</td>\n",
       "      <td>True</td>\n",
       "      <td>59</td>\n",
       "      <td>B</td>\n",
       "    </tr>\n",
       "    <tr>\n",
       "      <th>1</th>\n",
       "      <td>2</td>\n",
       "      <td>&lt;NA&gt;</td>\n",
       "      <td>&lt;NA&gt;</td>\n",
       "      <td>&lt;NA&gt;</td>\n",
       "      <td>False</td>\n",
       "      <td>2</td>\n",
       "      <td>True</td>\n",
       "      <td>91</td>\n",
       "      <td>B</td>\n",
       "    </tr>\n",
       "    <tr>\n",
       "      <th>2</th>\n",
       "      <td>3</td>\n",
       "      <td>&lt;NA&gt;</td>\n",
       "      <td>&lt;NA&gt;</td>\n",
       "      <td>&lt;NA&gt;</td>\n",
       "      <td>False</td>\n",
       "      <td>-5</td>\n",
       "      <td>True</td>\n",
       "      <td>118</td>\n",
       "      <td>B</td>\n",
       "    </tr>\n",
       "    <tr>\n",
       "      <th>3</th>\n",
       "      <td>3</td>\n",
       "      <td>&lt;NA&gt;</td>\n",
       "      <td>&lt;NA&gt;</td>\n",
       "      <td>&lt;NA&gt;</td>\n",
       "      <td>True</td>\n",
       "      <td>-3</td>\n",
       "      <td>True</td>\n",
       "      <td>151</td>\n",
       "      <td>S</td>\n",
       "    </tr>\n",
       "    <tr>\n",
       "      <th>4</th>\n",
       "      <td>9</td>\n",
       "      <td>frank001</td>\n",
       "      <td>&lt;NA&gt;</td>\n",
       "      <td>&lt;NA&gt;</td>\n",
       "      <td>True</td>\n",
       "      <td>2</td>\n",
       "      <td>True</td>\n",
       "      <td>36</td>\n",
       "      <td>S</td>\n",
       "    </tr>\n",
       "  </tbody>\n",
       "</table>\n",
       "</div>"
      ],
      "text/plain": [
       "   pitch_index runner_1b runner_2b runner_3b  home_team_flag  score_deficit  \\\n",
       "0            5  romia002  torrg001  walkn001           False              3   \n",
       "1            2      <NA>      <NA>      <NA>           False              2   \n",
       "2            3      <NA>      <NA>      <NA>           False             -5   \n",
       "3            3      <NA>      <NA>      <NA>            True             -3   \n",
       "4            9  frank001      <NA>      <NA>            True              2   \n",
       "\n",
       "   night_flag  pitch_count ball_or_strike  \n",
       "0        True           59              B  \n",
       "1        True           91              B  \n",
       "2        True          118              B  \n",
       "3        True          151              S  \n",
       "4        True           36              S  "
      ]
     },
     "execution_count": 8,
     "metadata": {},
     "output_type": "execute_result"
    }
   ],
   "source": [
    "# focus data frame on prediction values\n",
    "df = full_df[[\"pitch_index\", \"runner_1b\", \"runner_2b\", \"runner_3b\", \"home_team_flag\", \"score_deficit\", \n",
    "              \"night_flag\", \"pitch_count\", \"ball_or_strike\"]]\n",
    "df = df[df['ball_or_strike'].notnull()]\n",
    "\n",
    "df = df.convert_dtypes()\n",
    "df.head()"
   ]
  },
  {
   "cell_type": "code",
   "execution_count": 9,
   "metadata": {},
   "outputs": [
    {
     "data": {
      "text/html": [
       "<div>\n",
       "<style scoped>\n",
       "    .dataframe tbody tr th:only-of-type {\n",
       "        vertical-align: middle;\n",
       "    }\n",
       "\n",
       "    .dataframe tbody tr th {\n",
       "        vertical-align: top;\n",
       "    }\n",
       "\n",
       "    .dataframe thead th {\n",
       "        text-align: right;\n",
       "    }\n",
       "</style>\n",
       "<table border=\"1\" class=\"dataframe\">\n",
       "  <thead>\n",
       "    <tr style=\"text-align: right;\">\n",
       "      <th></th>\n",
       "      <th>pitch_index</th>\n",
       "      <th>pitch_count</th>\n",
       "      <th>ball_or_strike</th>\n",
       "      <th>is_runner_1b</th>\n",
       "      <th>is_runner_2b</th>\n",
       "      <th>is_runner_3b</th>\n",
       "      <th>is_home</th>\n",
       "      <th>is_night</th>\n",
       "      <th>score_deficit_scaled</th>\n",
       "    </tr>\n",
       "  </thead>\n",
       "  <tbody>\n",
       "    <tr>\n",
       "      <th>0</th>\n",
       "      <td>0.939660</td>\n",
       "      <td>-0.303969</td>\n",
       "      <td>B</td>\n",
       "      <td>1</td>\n",
       "      <td>1</td>\n",
       "      <td>1</td>\n",
       "      <td>0</td>\n",
       "      <td>1</td>\n",
       "      <td>0.953818</td>\n",
       "    </tr>\n",
       "    <tr>\n",
       "      <th>1</th>\n",
       "      <td>-0.585102</td>\n",
       "      <td>0.379654</td>\n",
       "      <td>B</td>\n",
       "      <td>0</td>\n",
       "      <td>0</td>\n",
       "      <td>0</td>\n",
       "      <td>0</td>\n",
       "      <td>1</td>\n",
       "      <td>0.642925</td>\n",
       "    </tr>\n",
       "    <tr>\n",
       "      <th>2</th>\n",
       "      <td>-0.076848</td>\n",
       "      <td>0.956461</td>\n",
       "      <td>B</td>\n",
       "      <td>0</td>\n",
       "      <td>0</td>\n",
       "      <td>0</td>\n",
       "      <td>0</td>\n",
       "      <td>1</td>\n",
       "      <td>-1.533321</td>\n",
       "    </tr>\n",
       "    <tr>\n",
       "      <th>3</th>\n",
       "      <td>-0.076848</td>\n",
       "      <td>1.661448</td>\n",
       "      <td>S</td>\n",
       "      <td>0</td>\n",
       "      <td>0</td>\n",
       "      <td>0</td>\n",
       "      <td>1</td>\n",
       "      <td>1</td>\n",
       "      <td>-0.911536</td>\n",
       "    </tr>\n",
       "    <tr>\n",
       "      <th>4</th>\n",
       "      <td>2.972675</td>\n",
       "      <td>-0.795323</td>\n",
       "      <td>S</td>\n",
       "      <td>1</td>\n",
       "      <td>0</td>\n",
       "      <td>0</td>\n",
       "      <td>1</td>\n",
       "      <td>1</td>\n",
       "      <td>0.642925</td>\n",
       "    </tr>\n",
       "  </tbody>\n",
       "</table>\n",
       "</div>"
      ],
      "text/plain": [
       "   pitch_index  pitch_count ball_or_strike  is_runner_1b  is_runner_2b  \\\n",
       "0     0.939660    -0.303969              B             1             1   \n",
       "1    -0.585102     0.379654              B             0             0   \n",
       "2    -0.076848     0.956461              B             0             0   \n",
       "3    -0.076848     1.661448              S             0             0   \n",
       "4     2.972675    -0.795323              S             1             0   \n",
       "\n",
       "   is_runner_3b  is_home  is_night  score_deficit_scaled  \n",
       "0             1        0         1              0.953818  \n",
       "1             0        0         1              0.642925  \n",
       "2             0        0         1             -1.533321  \n",
       "3             0        1         1             -0.911536  \n",
       "4             0        1         1              0.642925  "
      ]
     },
     "execution_count": 9,
     "metadata": {},
     "output_type": "execute_result"
    }
   ],
   "source": [
    "replace_populated_values_with_tf_num(df, 'runner_1b', 'is_runner_1b', True)\n",
    "replace_populated_values_with_tf_num(df, 'runner_2b', 'is_runner_2b', True)\n",
    "replace_populated_values_with_tf_num(df, 'runner_3b', 'is_runner_3b', True)\n",
    "\n",
    "replace_boolean_values_with_tf_num(df, \"home_team_flag\", 'is_home', True)\n",
    "replace_boolean_values_with_tf_num(df, \"night_flag\", 'is_night', True)\n",
    "\n",
    "scale_int_values(df, 'score_deficit', 'score_deficit_scaled', True, \n",
    "                 output_dir + \"/\" + \"score_deficit\" + SCALER_SUFFIX)\n",
    "scale_int_values(df, 'pitch_count', 'pitch_count', False,\n",
    "                 output_dir + \"/\" + \"pitch_count\" + SCALER_SUFFIX)\n",
    "scale_int_values(df, 'pitch_index', 'pitch_index', False,\n",
    "                 output_dir + \"/\" + \"pitch_index\" + SCALER_SUFFIX)\n",
    "\n",
    "df.head()\n"
   ]
  },
  {
   "cell_type": "code",
   "execution_count": 10,
   "metadata": {},
   "outputs": [
    {
     "data": {
      "text/html": [
       "<div>\n",
       "<style scoped>\n",
       "    .dataframe tbody tr th:only-of-type {\n",
       "        vertical-align: middle;\n",
       "    }\n",
       "\n",
       "    .dataframe tbody tr th {\n",
       "        vertical-align: top;\n",
       "    }\n",
       "\n",
       "    .dataframe thead th {\n",
       "        text-align: right;\n",
       "    }\n",
       "</style>\n",
       "<table border=\"1\" class=\"dataframe\">\n",
       "  <thead>\n",
       "    <tr style=\"text-align: right;\">\n",
       "      <th></th>\n",
       "      <th>pitch_index</th>\n",
       "      <th>pitch_count</th>\n",
       "      <th>is_runner_1b</th>\n",
       "      <th>is_runner_2b</th>\n",
       "      <th>is_runner_3b</th>\n",
       "      <th>is_home</th>\n",
       "      <th>is_night</th>\n",
       "      <th>score_deficit_scaled</th>\n",
       "      <th>is_strike</th>\n",
       "    </tr>\n",
       "  </thead>\n",
       "  <tbody>\n",
       "    <tr>\n",
       "      <th>0</th>\n",
       "      <td>0.939660</td>\n",
       "      <td>-0.303969</td>\n",
       "      <td>1</td>\n",
       "      <td>1</td>\n",
       "      <td>1</td>\n",
       "      <td>0</td>\n",
       "      <td>1</td>\n",
       "      <td>0.953818</td>\n",
       "      <td>False</td>\n",
       "    </tr>\n",
       "    <tr>\n",
       "      <th>1</th>\n",
       "      <td>-0.585102</td>\n",
       "      <td>0.379654</td>\n",
       "      <td>0</td>\n",
       "      <td>0</td>\n",
       "      <td>0</td>\n",
       "      <td>0</td>\n",
       "      <td>1</td>\n",
       "      <td>0.642925</td>\n",
       "      <td>False</td>\n",
       "    </tr>\n",
       "    <tr>\n",
       "      <th>2</th>\n",
       "      <td>-0.076848</td>\n",
       "      <td>0.956461</td>\n",
       "      <td>0</td>\n",
       "      <td>0</td>\n",
       "      <td>0</td>\n",
       "      <td>0</td>\n",
       "      <td>1</td>\n",
       "      <td>-1.533321</td>\n",
       "      <td>False</td>\n",
       "    </tr>\n",
       "    <tr>\n",
       "      <th>3</th>\n",
       "      <td>-0.076848</td>\n",
       "      <td>1.661448</td>\n",
       "      <td>0</td>\n",
       "      <td>0</td>\n",
       "      <td>0</td>\n",
       "      <td>1</td>\n",
       "      <td>1</td>\n",
       "      <td>-0.911536</td>\n",
       "      <td>True</td>\n",
       "    </tr>\n",
       "    <tr>\n",
       "      <th>4</th>\n",
       "      <td>2.972675</td>\n",
       "      <td>-0.795323</td>\n",
       "      <td>1</td>\n",
       "      <td>0</td>\n",
       "      <td>0</td>\n",
       "      <td>1</td>\n",
       "      <td>1</td>\n",
       "      <td>0.642925</td>\n",
       "      <td>True</td>\n",
       "    </tr>\n",
       "  </tbody>\n",
       "</table>\n",
       "</div>"
      ],
      "text/plain": [
       "   pitch_index  pitch_count  is_runner_1b  is_runner_2b  is_runner_3b  \\\n",
       "0     0.939660    -0.303969             1             1             1   \n",
       "1    -0.585102     0.379654             0             0             0   \n",
       "2    -0.076848     0.956461             0             0             0   \n",
       "3    -0.076848     1.661448             0             0             0   \n",
       "4     2.972675    -0.795323             1             0             0   \n",
       "\n",
       "   is_home  is_night  score_deficit_scaled  is_strike  \n",
       "0        0         1              0.953818      False  \n",
       "1        0         1              0.642925      False  \n",
       "2        0         1             -1.533321      False  \n",
       "3        1         1             -0.911536       True  \n",
       "4        1         1              0.642925       True  "
      ]
     },
     "execution_count": 10,
     "metadata": {},
     "output_type": "execute_result"
    }
   ],
   "source": [
    "df = extract_categorical_columns(df, [\"ball_or_strike\"])\n",
    "drop_column(df, \"ball_or_strike_B\")\n",
    "df.rename(columns={'ball_or_strike_S': 'is_strike'}, inplace=True)\n",
    "\n",
    "df.head()"
   ]
  },
  {
   "cell_type": "code",
   "execution_count": 11,
   "metadata": {},
   "outputs": [
    {
     "name": "stdout",
     "output_type": "stream",
     "text": [
      "<class 'pandas.core.frame.DataFrame'>\n",
      "RangeIndex: 5000 entries, 0 to 4999\n",
      "Data columns (total 9 columns):\n",
      " #   Column                Non-Null Count  Dtype  \n",
      "---  ------                --------------  -----  \n",
      " 0   pitch_index           5000 non-null   float64\n",
      " 1   pitch_count           5000 non-null   float64\n",
      " 2   is_runner_1b          5000 non-null   int64  \n",
      " 3   is_runner_2b          5000 non-null   int64  \n",
      " 4   is_runner_3b          5000 non-null   int64  \n",
      " 5   is_home               5000 non-null   int64  \n",
      " 6   is_night              5000 non-null   int64  \n",
      " 7   score_deficit_scaled  5000 non-null   float64\n",
      " 8   is_strike             5000 non-null   boolean\n",
      "dtypes: boolean(1), float64(3), int64(5)\n",
      "memory usage: 322.4 KB\n"
     ]
    }
   ],
   "source": [
    "df.info()"
   ]
  },
  {
   "cell_type": "code",
   "execution_count": 12,
   "metadata": {},
   "outputs": [
    {
     "data": {
      "text/plain": [
       "count     5000\n",
       "unique       2\n",
       "top       True\n",
       "freq      3103\n",
       "Name: is_strike, dtype: object"
      ]
     },
     "execution_count": 12,
     "metadata": {},
     "output_type": "execute_result"
    }
   ],
   "source": [
    "df[\"is_strike\"].describe()"
   ]
  },
  {
   "cell_type": "markdown",
   "metadata": {},
   "source": [
    "## Train Model\n",
    "\n",
    "Train a classification model using the prepared data set."
   ]
  },
  {
   "cell_type": "code",
   "execution_count": 13,
   "metadata": {},
   "outputs": [
    {
     "name": "stdout",
     "output_type": "stream",
     "text": [
      "Number of Features: 8\n",
      "Columns and their respective order for inferences:\n"
     ]
    },
    {
     "data": {
      "text/plain": [
       "Index(['pitch_index', 'pitch_count', 'is_runner_1b', 'is_runner_2b',\n",
       "       'is_runner_3b', 'is_home', 'is_night', 'score_deficit_scaled'],\n",
       "      dtype='object')"
      ]
     },
     "execution_count": 13,
     "metadata": {},
     "output_type": "execute_result"
    }
   ],
   "source": [
    "num_features = df.shape[1] - 1\n",
    "print(f\"Number of Features: {num_features}\")\n",
    "\n",
    "print(\"Columns and their respective order for inferences:\")\n",
    "df.columns[0:num_features]"
   ]
  },
  {
   "cell_type": "code",
   "execution_count": 14,
   "metadata": {},
   "outputs": [],
   "source": [
    "# Extract data\n",
    "X = df.iloc[:, 0:num_features]\n",
    "y = df.iloc[:, num_features:]\n",
    "\n",
    "# Convert to 2D PyTorch tensors\n",
    "Xt = torch.tensor(X.values, dtype=torch.float32)\n",
    "yt = torch.tensor(y.values, dtype=torch.float32)"
   ]
  },
  {
   "cell_type": "code",
   "execution_count": 15,
   "metadata": {},
   "outputs": [],
   "source": [
    "class PitchPredictionModel(nn.Module):\n",
    "    def __init__(self):\n",
    "        super().__init__()\n",
    "        self.layer1 = nn.Linear(num_features, num_features*NEURAL_NETWORK_WIDTH)\n",
    "        self.act1 = nn.ReLU()\n",
    "        self.layer2 = nn.Linear(num_features*NEURAL_NETWORK_WIDTH, num_features*NEURAL_NETWORK_WIDTH)\n",
    "        self.act2 = nn.ReLU()\n",
    "        self.layer3 = nn.Linear(num_features*NEURAL_NETWORK_WIDTH, num_features*NEURAL_NETWORK_WIDTH)\n",
    "        self.act3 = nn.ReLU()\n",
    "        self.output = nn.Linear(num_features*NEURAL_NETWORK_WIDTH, 1)\n",
    "        self.sigmoid = nn.Sigmoid()\n",
    "\n",
    "    def forward(self, x):\n",
    "        x = self.act1(self.layer1(x))\n",
    "        x = self.act2(self.layer2(x))\n",
    "        x = self.act3(self.layer3(x))\n",
    "        x = self.sigmoid(self.output(x))\n",
    "        return x"
   ]
  },
  {
   "cell_type": "code",
   "execution_count": 16,
   "metadata": {},
   "outputs": [
    {
     "name": "stdout",
     "output_type": "stream",
     "text": [
      "Training Shapes: \n",
      "\n",
      "X_train = [3500, 8]\n",
      "y_train = [3500, 1]\n",
      "X_test = [1500, 8]\n",
      "y_test = [1500, 1]\n"
     ]
    }
   ],
   "source": [
    "X_train, X_test, y_train, y_test = train_test_split(Xt, yt, train_size=0.7, shuffle=True)\n",
    "\n",
    "print (\"Training Shapes: \")\n",
    "print ()\n",
    "print (\"X_train = \" + str(list(X_train.size())))\n",
    "print (\"y_train = \" + str(list(y_train.size())))\n",
    "print (\"X_test = \" + str(list(X_test.size())))\n",
    "print (\"y_test = \" + str(list(y_test.size())))"
   ]
  },
  {
   "cell_type": "code",
   "execution_count": 17,
   "metadata": {},
   "outputs": [
    {
     "name": "stdout",
     "output_type": "stream",
     "text": [
      "Final model accuracy: 62.33%\n"
     ]
    }
   ],
   "source": [
    "model = PitchPredictionModel()\n",
    "final_acc = model_train(model, X_train, y_train, X_test, y_test)\n",
    "\n",
    "print(f\"Final model accuracy: {final_acc*100:.2f}%\")"
   ]
  },
  {
   "cell_type": "code",
   "execution_count": 18,
   "metadata": {},
   "outputs": [
    {
     "name": "stdout",
     "output_type": "stream",
     "text": [
      "ROC Image Output Filename: /opt/app-root/src/baseball/target/models/predict_pitch/roc.jpg\n",
      "[ 0.43140584 -0.4107849   1.          1.          0.          1.\n",
      "  0.          0.9538178 ] -> [0.4869477] (expected [0.])\n",
      "[-1.0933555  -0.987592    0.          0.          0.          1.\n",
      "  1.          0.02114068] -> [0.6439138] (expected [1.])\n",
      "[-0.5851018  -1.1584978   0.          0.          0.          0.\n",
      "  1.          0.02114068] -> [0.6850569] (expected [0.])\n",
      "[ 0.43140584  1.490542    0.          0.          0.          1.\n",
      "  1.         -1.5333211 ] -> [0.69649976] (expected [0.])\n",
      "[-1.0933555  -0.02624686  0.          1.          1.          0.\n",
      "  1.          0.02114068] -> [0.6448712] (expected [0.])\n"
     ]
    },
    {
     "data": {
      "image/png": "[encoded data removed]",
      "text/plain": [
       "<Figure size 640x480 with 1 Axes>"
      ]
     },
     "metadata": {},
     "output_type": "display_data"
    }
   ],
   "source": [
    "output_filename = output_dir + \"/\" + ROC_IMAGE_NAME\n",
    "print(\"ROC Image Output Filename: \" + output_filename)\n",
    "\n",
    "evaluate_model(model, X_test, y_test, output_filename)"
   ]
  },
  {
   "cell_type": "markdown",
   "metadata": {},
   "source": [
    "## Save the model\n",
    "\n",
    "Save the model to disk for use by an inference service."
   ]
  },
  {
   "cell_type": "code",
   "execution_count": 19,
   "metadata": {},
   "outputs": [
    {
     "name": "stdout",
     "output_type": "stream",
     "text": [
      "ONNX Model Output Filename: /opt/app-root/src/baseball/target/models/predict_pitch/model.onnx\n"
     ]
    }
   ],
   "source": [
    "output_filename = output_dir + \"/\" + ONNX_FILENAME\n",
    "print (\"ONNX Model Output Filename: \" + output_filename)\n",
    "\n",
    "save_model(model, num_features, output_filename)"
   ]
  },
  {
   "cell_type": "code",
   "execution_count": null,
   "metadata": {},
   "outputs": [],
   "source": []
  }
 ],
 "metadata": {
  "kernelspec": {
   "display_name": "venv",
   "language": "python",
   "name": "venv"
  },
  "language_info": {
   "codemirror_mode": {
    "name": "ipython",
    "version": 3
   },
   "file_extension": ".py",
   "mimetype": "text/x-python",
   "name": "python",
   "nbconvert_exporter": "python",
   "pygments_lexer": "ipython3",
   "version": "3.11.9"
  }
 },
 "nbformat": 4,
 "nbformat_minor": 4
}
