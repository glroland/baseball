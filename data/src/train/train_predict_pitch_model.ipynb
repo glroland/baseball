{
 "cells": [
  {
   "cell_type": "markdown",
   "metadata": {},
   "source": [
    "# Train Pitch Type Prediction Model"
   ]
  },
  {
   "cell_type": "markdown",
   "metadata": {},
   "source": [
    "Starting with the most simplicistic prediction, the goal with this experiment is to predict whether a pitcher will pitch a ball or a strike, given a basic game scenario.\n",
    "\n",
    "Ideas for getting better accuracy:\n",
    "- Filter data based on pitcher (and catcher?).  Do not think this will work because of model training aspect - not transactional.\n",
    "- Is the game packed or is it empty?\n",
    "- Is it at night?\n",
    "- Is it cold?\n",
    "- Is it raining?"
   ]
  },
  {
   "cell_type": "code",
   "execution_count": 1,
   "metadata": {},
   "outputs": [
    {
     "name": "stdout",
     "output_type": "stream",
     "text": [
      "KFP metric output not found.\n"
     ]
    }
   ],
   "source": [
    "try:\n",
    "    if metrics_output is not None:\n",
    "        print (\"KFP metric output was found.  Will log output metrics at the end of the process\")\n",
    "    else:\n",
    "        print (\"KFP metric output not found.\")\n",
    "except NameError:\n",
    "    print (\"KFP metric output not found.\")\n",
    "    metrics_output = None"
   ]
  },
  {
   "cell_type": "code",
   "execution_count": 2,
   "metadata": {},
   "outputs": [],
   "source": [
    "import os\n",
    "import torch\n",
    "import torch.nn as nn\n",
    "from sklearn.model_selection import train_test_split\n",
    "\n",
    "from train_tools import SCALER_SUFFIX\n",
    "\n",
    "from train_tools import acquire_data, drop_column\n",
    "from train_tools import scale_int_values, extract_categorical_columns\n",
    "from train_tools import replace_populated_values_with_tf_num, replace_boolean_values_with_tf_num\n",
    "from train_tools import model_train, save_model, evaluate_model"
   ]
  },
  {
   "cell_type": "code",
   "execution_count": 3,
   "metadata": {
    "tags": [
     "parameters"
    ]
   },
   "outputs": [],
   "source": [
    "output_dir = \"../../../target/models/predict_pitch/\"\n",
    "onnx_path = os.path.join(output_dir, \"model.onnx\")\n",
    "roc_path = os.path.join(output_dir, \"roc.jpg\")\n",
    "dataset_size = 5000\n",
    "db_conn_str = \"postgresql://baseball_app:baseball123@db/baseball_db\"\n",
    "neural_network_width = 10\n"
   ]
  },
  {
   "cell_type": "code",
   "execution_count": 4,
   "metadata": {},
   "outputs": [
    {
     "name": "stdout",
     "output_type": "stream",
     "text": [
      "Output Directory: /Users/lroland/Projects/github.com/baseball/target/models/predict_pitch\n"
     ]
    }
   ],
   "source": [
    "output_dir = os.path.abspath(output_dir)\n",
    "print (\"Output Directory: \" + output_dir)\n",
    "\n",
    "# ensure the model directory exists\n",
    "if not os.path.exists(output_dir):\n",
    "    print (\"Creating output directory: \" + output_dir)\n",
    "    os.makedirs(output_dir)"
   ]
  },
  {
   "cell_type": "markdown",
   "metadata": {},
   "source": [
    "## Acquire Data\n",
    "\n",
    "Pull relevant attributes from the baseball database as a DataFrame for analysis and training."
   ]
  },
  {
   "cell_type": "code",
   "execution_count": 5,
   "metadata": {},
   "outputs": [
    {
     "name": "stdout",
     "output_type": "stream",
     "text": [
      "Data Set Size: 5000\n"
     ]
    }
   ],
   "source": [
    "if dataset_size is not None and isinstance(dataset_size, str) and len(dataset_size) > 0:\n",
    "    dataset_size = int(dataset_size)\n",
    "print (\"Data Set Size: \" + str(dataset_size))"
   ]
  },
  {
   "cell_type": "code",
   "execution_count": 6,
   "metadata": {},
   "outputs": [
    {
     "name": "stdout",
     "output_type": "stream",
     "text": [
      "<class 'pandas.core.frame.DataFrame'>\n",
      "RangeIndex: 5000 entries, 0 to 4999\n",
      "Data columns (total 21 columns):\n",
      " #   Column           Non-Null Count  Dtype  \n",
      "---  ------           --------------  -----  \n",
      " 0   r_id             5000 non-null   float64\n",
      " 1   player_code      5000 non-null   object \n",
      " 2   pitch_index      5000 non-null   int64  \n",
      " 3   pitch_type_cd    5000 non-null   object \n",
      " 4   home_team_flag   5000 non-null   bool   \n",
      " 5   score_home       5000 non-null   int64  \n",
      " 6   score_visitor    5000 non-null   int64  \n",
      " 7   sky              5000 non-null   object \n",
      " 8   night_flag       5000 non-null   bool   \n",
      " 9   temperature      5000 non-null   int64  \n",
      " 10  wind_direction   5000 non-null   object \n",
      " 11  wind_speed       5000 non-null   int64  \n",
      " 12  precipitation    5000 non-null   object \n",
      " 13  field_condition  5000 non-null   object \n",
      " 14  batting_hand     5000 non-null   object \n",
      " 15  pitching_hand    5000 non-null   object \n",
      " 16  runner_1b        1979 non-null   object \n",
      " 17  runner_2b        1305 non-null   object \n",
      " 18  runner_3b        700 non-null    object \n",
      " 19  ball_or_strike   5000 non-null   object \n",
      " 20  pitch_count      5000 non-null   int64  \n",
      "dtypes: bool(2), float64(1), int64(6), object(12)\n",
      "memory usage: 752.1+ KB\n"
     ]
    }
   ],
   "source": [
    "sql = \"\"\"\n",
    "        select random() as r_id, game_play_atbat.player_code as player_code, pitch_index, pitch_type.pitch_type_cd as pitch_type_cd, home_team_flag, game_play_atbat.score_home as score_home, game_play_atbat.score_visitor as score_visitor, sky, night_flag, temperature, wind_direction, wind_speed, precipitation, field_condition, roster_batter.batting_hand as batting_hand, roster_pitcher.throw_hand as pitching_hand, runner_1b, runner_2b, runner_3b, ball_or_strike, pitch_count\n",
    "        from game, game_play, game_play_atbat, game_play_atbat_pitch, roster as roster_batter, roster as roster_pitcher, pitch_type\n",
    "        where game.game_id = game_play.game_id\n",
    "        and game_play_atbat.game_play_id = game_play.game_play_id\n",
    "        and game_play_atbat_pitch.game_play_id = game_play.game_play_id\n",
    "        and roster_batter.player_code = game_play_atbat.player_code\n",
    "        and roster_batter.season_year = date_part('year', game.game_date)\n",
    "        and roster_pitcher.player_code = game_play_atbat.pitcher\n",
    "        and roster_pitcher.season_year = roster_batter.season_year\n",
    "        and pitch_type.pitch_type_cd = game_play_atbat_pitch.pitch_type_cd\n",
    "        and pitch_type.ball_or_strike is not null\n",
    "        order by r_id  \n",
    "      \"\"\"\n",
    "\n",
    "full_df = acquire_data(db_conn_str, sql, dataset_size)\n",
    "\n",
    "full_df.info()"
   ]
  },
  {
   "cell_type": "code",
   "execution_count": 7,
   "metadata": {},
   "outputs": [],
   "source": [
    "def calculate_score_deficit(row):\n",
    "    is_home = row[\"home_team_flag\"]\n",
    "    score_home = row[\"score_home\"]\n",
    "    score_visitor = row[\"score_visitor\"]\n",
    "\n",
    "    if is_home:\n",
    "        return score_home - score_visitor\n",
    "    else:\n",
    "        return score_visitor - score_home\n",
    "\n",
    "full_df['score_deficit'] = full_df.apply(lambda x: calculate_score_deficit(x), axis=1)"
   ]
  },
  {
   "cell_type": "code",
   "execution_count": 8,
   "metadata": {},
   "outputs": [
    {
     "data": {
      "text/html": [
       "<div>\n",
       "<style scoped>\n",
       "    .dataframe tbody tr th:only-of-type {\n",
       "        vertical-align: middle;\n",
       "    }\n",
       "\n",
       "    .dataframe tbody tr th {\n",
       "        vertical-align: top;\n",
       "    }\n",
       "\n",
       "    .dataframe thead th {\n",
       "        text-align: right;\n",
       "    }\n",
       "</style>\n",
       "<table border=\"1\" class=\"dataframe\">\n",
       "  <thead>\n",
       "    <tr style=\"text-align: right;\">\n",
       "      <th></th>\n",
       "      <th>r_id</th>\n",
       "      <th>player_code</th>\n",
       "      <th>pitch_index</th>\n",
       "      <th>pitch_type_cd</th>\n",
       "      <th>home_team_flag</th>\n",
       "      <th>score_home</th>\n",
       "      <th>score_visitor</th>\n",
       "      <th>sky</th>\n",
       "      <th>night_flag</th>\n",
       "      <th>temperature</th>\n",
       "      <th>...</th>\n",
       "      <th>precipitation</th>\n",
       "      <th>field_condition</th>\n",
       "      <th>batting_hand</th>\n",
       "      <th>pitching_hand</th>\n",
       "      <th>runner_1b</th>\n",
       "      <th>runner_2b</th>\n",
       "      <th>runner_3b</th>\n",
       "      <th>ball_or_strike</th>\n",
       "      <th>pitch_count</th>\n",
       "      <th>score_deficit</th>\n",
       "    </tr>\n",
       "  </thead>\n",
       "  <tbody>\n",
       "    <tr>\n",
       "      <th>0</th>\n",
       "      <td>3.553349e-08</td>\n",
       "      <td>pagaa001</td>\n",
       "      <td>1</td>\n",
       "      <td>F</td>\n",
       "      <td>True</td>\n",
       "      <td>1</td>\n",
       "      <td>1</td>\n",
       "      <td>dome</td>\n",
       "      <td>False</td>\n",
       "      <td>72</td>\n",
       "      <td>...</td>\n",
       "      <td>none</td>\n",
       "      <td>dry</td>\n",
       "      <td>R</td>\n",
       "      <td>R</td>\n",
       "      <td>pagaa001</td>\n",
       "      <td>None</td>\n",
       "      <td>duffm002</td>\n",
       "      <td>S</td>\n",
       "      <td>69</td>\n",
       "      <td>0</td>\n",
       "    </tr>\n",
       "    <tr>\n",
       "      <th>1</th>\n",
       "      <td>1.624358e-07</td>\n",
       "      <td>mcnej002</td>\n",
       "      <td>3</td>\n",
       "      <td>F</td>\n",
       "      <td>True</td>\n",
       "      <td>9</td>\n",
       "      <td>6</td>\n",
       "      <td>cloudy</td>\n",
       "      <td>True</td>\n",
       "      <td>86</td>\n",
       "      <td>...</td>\n",
       "      <td>unknown</td>\n",
       "      <td>unknown</td>\n",
       "      <td>R</td>\n",
       "      <td>R</td>\n",
       "      <td>None</td>\n",
       "      <td>None</td>\n",
       "      <td>None</td>\n",
       "      <td>S</td>\n",
       "      <td>82</td>\n",
       "      <td>3</td>\n",
       "    </tr>\n",
       "    <tr>\n",
       "      <th>2</th>\n",
       "      <td>2.094397e-07</td>\n",
       "      <td>scutm001</td>\n",
       "      <td>2</td>\n",
       "      <td>C</td>\n",
       "      <td>True</td>\n",
       "      <td>1</td>\n",
       "      <td>4</td>\n",
       "      <td>cloudy</td>\n",
       "      <td>True</td>\n",
       "      <td>84</td>\n",
       "      <td>...</td>\n",
       "      <td>unknown</td>\n",
       "      <td>unknown</td>\n",
       "      <td>R</td>\n",
       "      <td>R</td>\n",
       "      <td>scutm001</td>\n",
       "      <td>None</td>\n",
       "      <td>None</td>\n",
       "      <td>S</td>\n",
       "      <td>72</td>\n",
       "      <td>-3</td>\n",
       "    </tr>\n",
       "    <tr>\n",
       "      <th>3</th>\n",
       "      <td>3.010024e-07</td>\n",
       "      <td>bogat001</td>\n",
       "      <td>2</td>\n",
       "      <td>C</td>\n",
       "      <td>False</td>\n",
       "      <td>3</td>\n",
       "      <td>0</td>\n",
       "      <td>dome</td>\n",
       "      <td>True</td>\n",
       "      <td>72</td>\n",
       "      <td>...</td>\n",
       "      <td>none</td>\n",
       "      <td>dry</td>\n",
       "      <td>R</td>\n",
       "      <td>R</td>\n",
       "      <td>None</td>\n",
       "      <td>None</td>\n",
       "      <td>None</td>\n",
       "      <td>S</td>\n",
       "      <td>24</td>\n",
       "      <td>-3</td>\n",
       "    </tr>\n",
       "    <tr>\n",
       "      <th>4</th>\n",
       "      <td>4.858235e-07</td>\n",
       "      <td>randj002</td>\n",
       "      <td>8</td>\n",
       "      <td>X</td>\n",
       "      <td>False</td>\n",
       "      <td>2</td>\n",
       "      <td>1</td>\n",
       "      <td>sunny</td>\n",
       "      <td>False</td>\n",
       "      <td>90</td>\n",
       "      <td>...</td>\n",
       "      <td>unknown</td>\n",
       "      <td>unknown</td>\n",
       "      <td>R</td>\n",
       "      <td>R</td>\n",
       "      <td>None</td>\n",
       "      <td>randj002</td>\n",
       "      <td>None</td>\n",
       "      <td>S</td>\n",
       "      <td>26</td>\n",
       "      <td>-1</td>\n",
       "    </tr>\n",
       "  </tbody>\n",
       "</table>\n",
       "<p>5 rows × 22 columns</p>\n",
       "</div>"
      ],
      "text/plain": [
       "           r_id player_code  pitch_index pitch_type_cd  home_team_flag  \\\n",
       "0  3.553349e-08    pagaa001            1             F            True   \n",
       "1  1.624358e-07    mcnej002            3             F            True   \n",
       "2  2.094397e-07    scutm001            2             C            True   \n",
       "3  3.010024e-07    bogat001            2             C           False   \n",
       "4  4.858235e-07    randj002            8             X           False   \n",
       "\n",
       "   score_home  score_visitor     sky  night_flag  temperature  ...  \\\n",
       "0           1              1    dome       False           72  ...   \n",
       "1           9              6  cloudy        True           86  ...   \n",
       "2           1              4  cloudy        True           84  ...   \n",
       "3           3              0    dome        True           72  ...   \n",
       "4           2              1   sunny       False           90  ...   \n",
       "\n",
       "  precipitation  field_condition batting_hand pitching_hand runner_1b  \\\n",
       "0          none              dry            R             R  pagaa001   \n",
       "1       unknown          unknown            R             R      None   \n",
       "2       unknown          unknown            R             R  scutm001   \n",
       "3          none              dry            R             R      None   \n",
       "4       unknown          unknown            R             R      None   \n",
       "\n",
       "  runner_2b runner_3b ball_or_strike pitch_count score_deficit  \n",
       "0      None  duffm002              S          69             0  \n",
       "1      None      None              S          82             3  \n",
       "2      None      None              S          72            -3  \n",
       "3      None      None              S          24            -3  \n",
       "4  randj002      None              S          26            -1  \n",
       "\n",
       "[5 rows x 22 columns]"
      ]
     },
     "execution_count": 8,
     "metadata": {},
     "output_type": "execute_result"
    }
   ],
   "source": [
    "full_df.head()"
   ]
  },
  {
   "cell_type": "markdown",
   "metadata": {},
   "source": [
    "## Prepare Data for Model Training\n",
    "\n",
    "Prepare data for classification."
   ]
  },
  {
   "cell_type": "code",
   "execution_count": 9,
   "metadata": {},
   "outputs": [
    {
     "data": {
      "text/html": [
       "<div>\n",
       "<style scoped>\n",
       "    .dataframe tbody tr th:only-of-type {\n",
       "        vertical-align: middle;\n",
       "    }\n",
       "\n",
       "    .dataframe tbody tr th {\n",
       "        vertical-align: top;\n",
       "    }\n",
       "\n",
       "    .dataframe thead th {\n",
       "        text-align: right;\n",
       "    }\n",
       "</style>\n",
       "<table border=\"1\" class=\"dataframe\">\n",
       "  <thead>\n",
       "    <tr style=\"text-align: right;\">\n",
       "      <th></th>\n",
       "      <th>pitch_index</th>\n",
       "      <th>runner_1b</th>\n",
       "      <th>runner_2b</th>\n",
       "      <th>runner_3b</th>\n",
       "      <th>home_team_flag</th>\n",
       "      <th>score_deficit</th>\n",
       "      <th>night_flag</th>\n",
       "      <th>pitch_count</th>\n",
       "      <th>ball_or_strike</th>\n",
       "    </tr>\n",
       "  </thead>\n",
       "  <tbody>\n",
       "    <tr>\n",
       "      <th>0</th>\n",
       "      <td>1</td>\n",
       "      <td>pagaa001</td>\n",
       "      <td>&lt;NA&gt;</td>\n",
       "      <td>duffm002</td>\n",
       "      <td>True</td>\n",
       "      <td>0</td>\n",
       "      <td>False</td>\n",
       "      <td>69</td>\n",
       "      <td>S</td>\n",
       "    </tr>\n",
       "    <tr>\n",
       "      <th>1</th>\n",
       "      <td>3</td>\n",
       "      <td>&lt;NA&gt;</td>\n",
       "      <td>&lt;NA&gt;</td>\n",
       "      <td>&lt;NA&gt;</td>\n",
       "      <td>True</td>\n",
       "      <td>3</td>\n",
       "      <td>True</td>\n",
       "      <td>82</td>\n",
       "      <td>S</td>\n",
       "    </tr>\n",
       "    <tr>\n",
       "      <th>2</th>\n",
       "      <td>2</td>\n",
       "      <td>scutm001</td>\n",
       "      <td>&lt;NA&gt;</td>\n",
       "      <td>&lt;NA&gt;</td>\n",
       "      <td>True</td>\n",
       "      <td>-3</td>\n",
       "      <td>True</td>\n",
       "      <td>72</td>\n",
       "      <td>S</td>\n",
       "    </tr>\n",
       "    <tr>\n",
       "      <th>3</th>\n",
       "      <td>2</td>\n",
       "      <td>&lt;NA&gt;</td>\n",
       "      <td>&lt;NA&gt;</td>\n",
       "      <td>&lt;NA&gt;</td>\n",
       "      <td>False</td>\n",
       "      <td>-3</td>\n",
       "      <td>True</td>\n",
       "      <td>24</td>\n",
       "      <td>S</td>\n",
       "    </tr>\n",
       "    <tr>\n",
       "      <th>4</th>\n",
       "      <td>8</td>\n",
       "      <td>&lt;NA&gt;</td>\n",
       "      <td>randj002</td>\n",
       "      <td>&lt;NA&gt;</td>\n",
       "      <td>False</td>\n",
       "      <td>-1</td>\n",
       "      <td>False</td>\n",
       "      <td>26</td>\n",
       "      <td>S</td>\n",
       "    </tr>\n",
       "  </tbody>\n",
       "</table>\n",
       "</div>"
      ],
      "text/plain": [
       "   pitch_index runner_1b runner_2b runner_3b  home_team_flag  score_deficit  \\\n",
       "0            1  pagaa001      <NA>  duffm002            True              0   \n",
       "1            3      <NA>      <NA>      <NA>            True              3   \n",
       "2            2  scutm001      <NA>      <NA>            True             -3   \n",
       "3            2      <NA>      <NA>      <NA>           False             -3   \n",
       "4            8      <NA>  randj002      <NA>           False             -1   \n",
       "\n",
       "   night_flag  pitch_count ball_or_strike  \n",
       "0       False           69              S  \n",
       "1        True           82              S  \n",
       "2        True           72              S  \n",
       "3        True           24              S  \n",
       "4       False           26              S  "
      ]
     },
     "execution_count": 9,
     "metadata": {},
     "output_type": "execute_result"
    }
   ],
   "source": [
    "# focus data frame on prediction values\n",
    "df = full_df[[\"pitch_index\", \"runner_1b\", \"runner_2b\", \"runner_3b\", \"home_team_flag\", \"score_deficit\", \n",
    "              \"night_flag\", \"pitch_count\", \"ball_or_strike\"]]\n",
    "df = df[df['ball_or_strike'].notnull()]\n",
    "\n",
    "df = df.convert_dtypes()\n",
    "df.head()"
   ]
  },
  {
   "cell_type": "code",
   "execution_count": 10,
   "metadata": {},
   "outputs": [
    {
     "data": {
      "text/html": [
       "<div>\n",
       "<style scoped>\n",
       "    .dataframe tbody tr th:only-of-type {\n",
       "        vertical-align: middle;\n",
       "    }\n",
       "\n",
       "    .dataframe tbody tr th {\n",
       "        vertical-align: top;\n",
       "    }\n",
       "\n",
       "    .dataframe thead th {\n",
       "        text-align: right;\n",
       "    }\n",
       "</style>\n",
       "<table border=\"1\" class=\"dataframe\">\n",
       "  <thead>\n",
       "    <tr style=\"text-align: right;\">\n",
       "      <th></th>\n",
       "      <th>pitch_index</th>\n",
       "      <th>pitch_count</th>\n",
       "      <th>ball_or_strike</th>\n",
       "      <th>is_runner_1b</th>\n",
       "      <th>is_runner_2b</th>\n",
       "      <th>is_runner_3b</th>\n",
       "      <th>is_home</th>\n",
       "      <th>is_night</th>\n",
       "      <th>score_deficit_scaled</th>\n",
       "    </tr>\n",
       "  </thead>\n",
       "  <tbody>\n",
       "    <tr>\n",
       "      <th>0</th>\n",
       "      <td>-1.091370</td>\n",
       "      <td>-0.109557</td>\n",
       "      <td>S</td>\n",
       "      <td>1</td>\n",
       "      <td>0</td>\n",
       "      <td>1</td>\n",
       "      <td>1</td>\n",
       "      <td>0</td>\n",
       "      <td>0.016513</td>\n",
       "    </tr>\n",
       "    <tr>\n",
       "      <th>1</th>\n",
       "      <td>-0.078498</td>\n",
       "      <td>0.172403</td>\n",
       "      <td>S</td>\n",
       "      <td>0</td>\n",
       "      <td>0</td>\n",
       "      <td>0</td>\n",
       "      <td>1</td>\n",
       "      <td>1</td>\n",
       "      <td>0.927167</td>\n",
       "    </tr>\n",
       "    <tr>\n",
       "      <th>2</th>\n",
       "      <td>-0.584934</td>\n",
       "      <td>-0.044489</td>\n",
       "      <td>S</td>\n",
       "      <td>1</td>\n",
       "      <td>0</td>\n",
       "      <td>0</td>\n",
       "      <td>1</td>\n",
       "      <td>1</td>\n",
       "      <td>-0.894141</td>\n",
       "    </tr>\n",
       "    <tr>\n",
       "      <th>3</th>\n",
       "      <td>-0.584934</td>\n",
       "      <td>-1.085572</td>\n",
       "      <td>S</td>\n",
       "      <td>0</td>\n",
       "      <td>0</td>\n",
       "      <td>0</td>\n",
       "      <td>0</td>\n",
       "      <td>1</td>\n",
       "      <td>-0.894141</td>\n",
       "    </tr>\n",
       "    <tr>\n",
       "      <th>4</th>\n",
       "      <td>2.453684</td>\n",
       "      <td>-1.042194</td>\n",
       "      <td>S</td>\n",
       "      <td>0</td>\n",
       "      <td>1</td>\n",
       "      <td>0</td>\n",
       "      <td>0</td>\n",
       "      <td>0</td>\n",
       "      <td>-0.287038</td>\n",
       "    </tr>\n",
       "  </tbody>\n",
       "</table>\n",
       "</div>"
      ],
      "text/plain": [
       "   pitch_index  pitch_count ball_or_strike  is_runner_1b  is_runner_2b  \\\n",
       "0    -1.091370    -0.109557              S             1             0   \n",
       "1    -0.078498     0.172403              S             0             0   \n",
       "2    -0.584934    -0.044489              S             1             0   \n",
       "3    -0.584934    -1.085572              S             0             0   \n",
       "4     2.453684    -1.042194              S             0             1   \n",
       "\n",
       "   is_runner_3b  is_home  is_night  score_deficit_scaled  \n",
       "0             1        1         0              0.016513  \n",
       "1             0        1         1              0.927167  \n",
       "2             0        1         1             -0.894141  \n",
       "3             0        0         1             -0.894141  \n",
       "4             0        0         0             -0.287038  "
      ]
     },
     "execution_count": 10,
     "metadata": {},
     "output_type": "execute_result"
    }
   ],
   "source": [
    "replace_populated_values_with_tf_num(df, 'runner_1b', 'is_runner_1b', True)\n",
    "replace_populated_values_with_tf_num(df, 'runner_2b', 'is_runner_2b', True)\n",
    "replace_populated_values_with_tf_num(df, 'runner_3b', 'is_runner_3b', True)\n",
    "\n",
    "replace_boolean_values_with_tf_num(df, \"home_team_flag\", 'is_home', True)\n",
    "replace_boolean_values_with_tf_num(df, \"night_flag\", 'is_night', True)\n",
    "\n",
    "scale_int_values(df, 'score_deficit', 'score_deficit_scaled', True, \n",
    "                 output_dir + \"/\" + \"score_deficit\" + SCALER_SUFFIX)\n",
    "scale_int_values(df, 'pitch_count', 'pitch_count', False,\n",
    "                 output_dir + \"/\" + \"pitch_count\" + SCALER_SUFFIX)\n",
    "scale_int_values(df, 'pitch_index', 'pitch_index', False,\n",
    "                 output_dir + \"/\" + \"pitch_index\" + SCALER_SUFFIX)\n",
    "\n",
    "df.head()\n"
   ]
  },
  {
   "cell_type": "code",
   "execution_count": 11,
   "metadata": {},
   "outputs": [
    {
     "data": {
      "text/html": [
       "<div>\n",
       "<style scoped>\n",
       "    .dataframe tbody tr th:only-of-type {\n",
       "        vertical-align: middle;\n",
       "    }\n",
       "\n",
       "    .dataframe tbody tr th {\n",
       "        vertical-align: top;\n",
       "    }\n",
       "\n",
       "    .dataframe thead th {\n",
       "        text-align: right;\n",
       "    }\n",
       "</style>\n",
       "<table border=\"1\" class=\"dataframe\">\n",
       "  <thead>\n",
       "    <tr style=\"text-align: right;\">\n",
       "      <th></th>\n",
       "      <th>pitch_index</th>\n",
       "      <th>pitch_count</th>\n",
       "      <th>is_runner_1b</th>\n",
       "      <th>is_runner_2b</th>\n",
       "      <th>is_runner_3b</th>\n",
       "      <th>is_home</th>\n",
       "      <th>is_night</th>\n",
       "      <th>score_deficit_scaled</th>\n",
       "      <th>is_strike</th>\n",
       "    </tr>\n",
       "  </thead>\n",
       "  <tbody>\n",
       "    <tr>\n",
       "      <th>0</th>\n",
       "      <td>-1.091370</td>\n",
       "      <td>-0.109557</td>\n",
       "      <td>1</td>\n",
       "      <td>0</td>\n",
       "      <td>1</td>\n",
       "      <td>1</td>\n",
       "      <td>0</td>\n",
       "      <td>0.016513</td>\n",
       "      <td>True</td>\n",
       "    </tr>\n",
       "    <tr>\n",
       "      <th>1</th>\n",
       "      <td>-0.078498</td>\n",
       "      <td>0.172403</td>\n",
       "      <td>0</td>\n",
       "      <td>0</td>\n",
       "      <td>0</td>\n",
       "      <td>1</td>\n",
       "      <td>1</td>\n",
       "      <td>0.927167</td>\n",
       "      <td>True</td>\n",
       "    </tr>\n",
       "    <tr>\n",
       "      <th>2</th>\n",
       "      <td>-0.584934</td>\n",
       "      <td>-0.044489</td>\n",
       "      <td>1</td>\n",
       "      <td>0</td>\n",
       "      <td>0</td>\n",
       "      <td>1</td>\n",
       "      <td>1</td>\n",
       "      <td>-0.894141</td>\n",
       "      <td>True</td>\n",
       "    </tr>\n",
       "    <tr>\n",
       "      <th>3</th>\n",
       "      <td>-0.584934</td>\n",
       "      <td>-1.085572</td>\n",
       "      <td>0</td>\n",
       "      <td>0</td>\n",
       "      <td>0</td>\n",
       "      <td>0</td>\n",
       "      <td>1</td>\n",
       "      <td>-0.894141</td>\n",
       "      <td>True</td>\n",
       "    </tr>\n",
       "    <tr>\n",
       "      <th>4</th>\n",
       "      <td>2.453684</td>\n",
       "      <td>-1.042194</td>\n",
       "      <td>0</td>\n",
       "      <td>1</td>\n",
       "      <td>0</td>\n",
       "      <td>0</td>\n",
       "      <td>0</td>\n",
       "      <td>-0.287038</td>\n",
       "      <td>True</td>\n",
       "    </tr>\n",
       "  </tbody>\n",
       "</table>\n",
       "</div>"
      ],
      "text/plain": [
       "   pitch_index  pitch_count  is_runner_1b  is_runner_2b  is_runner_3b  \\\n",
       "0    -1.091370    -0.109557             1             0             1   \n",
       "1    -0.078498     0.172403             0             0             0   \n",
       "2    -0.584934    -0.044489             1             0             0   \n",
       "3    -0.584934    -1.085572             0             0             0   \n",
       "4     2.453684    -1.042194             0             1             0   \n",
       "\n",
       "   is_home  is_night  score_deficit_scaled  is_strike  \n",
       "0        1         0              0.016513       True  \n",
       "1        1         1              0.927167       True  \n",
       "2        1         1             -0.894141       True  \n",
       "3        0         1             -0.894141       True  \n",
       "4        0         0             -0.287038       True  "
      ]
     },
     "execution_count": 11,
     "metadata": {},
     "output_type": "execute_result"
    }
   ],
   "source": [
    "df = extract_categorical_columns(df, [\"ball_or_strike\"])\n",
    "drop_column(df, \"ball_or_strike_B\")\n",
    "df.rename(columns={'ball_or_strike_S': 'is_strike'}, inplace=True)\n",
    "\n",
    "df.head()"
   ]
  },
  {
   "cell_type": "code",
   "execution_count": 12,
   "metadata": {},
   "outputs": [
    {
     "name": "stdout",
     "output_type": "stream",
     "text": [
      "<class 'pandas.core.frame.DataFrame'>\n",
      "RangeIndex: 5000 entries, 0 to 4999\n",
      "Data columns (total 9 columns):\n",
      " #   Column                Non-Null Count  Dtype  \n",
      "---  ------                --------------  -----  \n",
      " 0   pitch_index           5000 non-null   float64\n",
      " 1   pitch_count           5000 non-null   float64\n",
      " 2   is_runner_1b          5000 non-null   int64  \n",
      " 3   is_runner_2b          5000 non-null   int64  \n",
      " 4   is_runner_3b          5000 non-null   int64  \n",
      " 5   is_home               5000 non-null   int64  \n",
      " 6   is_night              5000 non-null   int64  \n",
      " 7   score_deficit_scaled  5000 non-null   float64\n",
      " 8   is_strike             5000 non-null   boolean\n",
      "dtypes: boolean(1), float64(3), int64(5)\n",
      "memory usage: 322.4 KB\n"
     ]
    }
   ],
   "source": [
    "df.info()"
   ]
  },
  {
   "cell_type": "code",
   "execution_count": 13,
   "metadata": {},
   "outputs": [
    {
     "data": {
      "text/plain": [
       "count     5000\n",
       "unique       2\n",
       "top       True\n",
       "freq      3151\n",
       "Name: is_strike, dtype: object"
      ]
     },
     "execution_count": 13,
     "metadata": {},
     "output_type": "execute_result"
    }
   ],
   "source": [
    "df[\"is_strike\"].describe()"
   ]
  },
  {
   "cell_type": "markdown",
   "metadata": {},
   "source": [
    "## Train Model\n",
    "\n",
    "Train a classification model using the prepared data set."
   ]
  },
  {
   "cell_type": "code",
   "execution_count": 14,
   "metadata": {},
   "outputs": [
    {
     "name": "stdout",
     "output_type": "stream",
     "text": [
      "Number of Features: 8\n",
      "Columns and their respective order for inferences:\n"
     ]
    },
    {
     "data": {
      "text/plain": [
       "Index(['pitch_index', 'pitch_count', 'is_runner_1b', 'is_runner_2b',\n",
       "       'is_runner_3b', 'is_home', 'is_night', 'score_deficit_scaled'],\n",
       "      dtype='object')"
      ]
     },
     "execution_count": 14,
     "metadata": {},
     "output_type": "execute_result"
    }
   ],
   "source": [
    "num_features = df.shape[1] - 1\n",
    "print(f\"Number of Features: {num_features}\")\n",
    "\n",
    "print(\"Columns and their respective order for inferences:\")\n",
    "df.columns[0:num_features]"
   ]
  },
  {
   "cell_type": "code",
   "execution_count": 15,
   "metadata": {},
   "outputs": [],
   "source": [
    "# Extract data\n",
    "X = df.iloc[:, 0:num_features]\n",
    "y = df.iloc[:, num_features:]\n",
    "\n",
    "# Convert to 2D PyTorch tensors\n",
    "Xt = torch.tensor(X.values, dtype=torch.float32)\n",
    "yt = torch.tensor(y.values, dtype=torch.float32)"
   ]
  },
  {
   "cell_type": "code",
   "execution_count": 16,
   "metadata": {},
   "outputs": [],
   "source": [
    "class PitchPredictionModel(nn.Module):\n",
    "    def __init__(self):\n",
    "        super().__init__()\n",
    "        self.layer1 = nn.Linear(num_features, num_features*neural_network_width)\n",
    "        self.act1 = nn.ReLU()\n",
    "        self.layer2 = nn.Linear(num_features*neural_network_width, num_features*neural_network_width)\n",
    "        self.act2 = nn.ReLU()\n",
    "        self.layer3 = nn.Linear(num_features*neural_network_width, num_features*neural_network_width)\n",
    "        self.act3 = nn.ReLU()\n",
    "        self.output = nn.Linear(num_features*neural_network_width, 1)\n",
    "        self.sigmoid = nn.Sigmoid()\n",
    "\n",
    "    def forward(self, x):\n",
    "        x = self.act1(self.layer1(x))\n",
    "        x = self.act2(self.layer2(x))\n",
    "        x = self.act3(self.layer3(x))\n",
    "        x = self.sigmoid(self.output(x))\n",
    "        return x"
   ]
  },
  {
   "cell_type": "code",
   "execution_count": 17,
   "metadata": {},
   "outputs": [
    {
     "name": "stdout",
     "output_type": "stream",
     "text": [
      "Training Shapes: \n",
      "\n",
      "X_train = [3500, 8]\n",
      "y_train = [3500, 1]\n",
      "X_test = [1500, 8]\n",
      "y_test = [1500, 1]\n"
     ]
    }
   ],
   "source": [
    "X_train, X_test, y_train, y_test = train_test_split(Xt, yt, train_size=0.7, shuffle=True)\n",
    "\n",
    "print (\"Training Shapes: \")\n",
    "print ()\n",
    "print (\"X_train = \" + str(list(X_train.size())))\n",
    "print (\"y_train = \" + str(list(y_train.size())))\n",
    "print (\"X_test = \" + str(list(X_test.size())))\n",
    "print (\"y_test = \" + str(list(y_test.size())))"
   ]
  },
  {
   "cell_type": "code",
   "execution_count": 18,
   "metadata": {},
   "outputs": [
    {
     "name": "stderr",
     "output_type": "stream",
     "text": [
      "Epoch 0: 100%|██████████| 350/350 [00:00<00:00, 393.93batch/s, acc=0.6, loss=0.692]\n",
      "Epoch 1: 100%|██████████| 350/350 [00:00<00:00, 402.98batch/s, acc=0.6, loss=0.693]\n",
      "Epoch 2: 100%|██████████| 350/350 [00:00<00:00, 417.14batch/s, acc=0.6, loss=0.688]\n",
      "Epoch 3: 100%|██████████| 350/350 [00:00<00:00, 430.13batch/s, acc=0.6, loss=0.682]\n",
      "Epoch 4: 100%|██████████| 350/350 [00:00<00:00, 484.80batch/s, acc=0.6, loss=0.674]\n",
      "Epoch 5: 100%|██████████| 350/350 [00:00<00:00, 467.30batch/s, acc=0.6, loss=0.666]\n",
      "Epoch 6: 100%|██████████| 350/350 [00:00<00:00, 489.36batch/s, acc=0.6, loss=0.66] \n",
      "Epoch 7: 100%|██████████| 350/350 [00:00<00:00, 439.07batch/s, acc=0.6, loss=0.655]\n",
      "Epoch 8: 100%|██████████| 350/350 [00:00<00:00, 435.86batch/s, acc=0.6, loss=0.65] \n",
      "Epoch 9: 100%|██████████| 350/350 [00:00<00:00, 429.44batch/s, acc=0.6, loss=0.645]\n",
      "Epoch 10: 100%|██████████| 350/350 [00:00<00:00, 463.04batch/s, acc=0.6, loss=0.641]\n",
      "Epoch 11: 100%|██████████| 350/350 [00:00<00:00, 488.97batch/s, acc=0.6, loss=0.638]\n",
      "Epoch 12: 100%|██████████| 350/350 [00:00<00:00, 456.89batch/s, acc=0.6, loss=0.634]\n",
      "Epoch 13: 100%|██████████| 350/350 [00:00<00:00, 413.32batch/s, acc=0.6, loss=0.631]\n",
      "Epoch 14: 100%|██████████| 350/350 [00:00<00:00, 443.17batch/s, acc=0.6, loss=0.628]\n",
      "Epoch 15: 100%|██████████| 350/350 [00:00<00:00, 433.78batch/s, acc=0.6, loss=0.625]\n",
      "Epoch 16: 100%|██████████| 350/350 [00:00<00:00, 457.17batch/s, acc=0.6, loss=0.622]\n",
      "Epoch 17: 100%|██████████| 350/350 [00:00<00:00, 468.88batch/s, acc=0.6, loss=0.62] \n",
      "Epoch 18: 100%|██████████| 350/350 [00:00<00:00, 409.38batch/s, acc=0.6, loss=0.617]\n",
      "Epoch 19: 100%|██████████| 350/350 [00:00<00:00, 456.59batch/s, acc=0.6, loss=0.614]\n",
      "Epoch 20: 100%|██████████| 350/350 [00:00<00:00, 467.30batch/s, acc=0.6, loss=0.612]\n",
      "Epoch 21: 100%|██████████| 350/350 [00:00<00:00, 419.84batch/s, acc=0.6, loss=0.609]\n",
      "Epoch 22: 100%|██████████| 350/350 [00:00<00:00, 457.78batch/s, acc=0.6, loss=0.607]\n",
      "Epoch 23: 100%|██████████| 350/350 [00:00<00:00, 492.44batch/s, acc=0.6, loss=0.605]\n",
      "Epoch 24: 100%|██████████| 350/350 [00:00<00:00, 442.38batch/s, acc=0.6, loss=0.603]\n",
      "Epoch 25: 100%|██████████| 350/350 [00:00<00:00, 461.95batch/s, acc=0.6, loss=0.601]\n",
      "Epoch 26: 100%|██████████| 350/350 [00:00<00:00, 470.10batch/s, acc=0.6, loss=0.599]\n",
      "Epoch 27: 100%|██████████| 350/350 [00:00<00:00, 441.29batch/s, acc=0.6, loss=0.597]\n",
      "Epoch 28: 100%|██████████| 350/350 [00:00<00:00, 436.98batch/s, acc=0.6, loss=0.596]\n",
      "Epoch 29: 100%|██████████| 350/350 [00:00<00:00, 443.40batch/s, acc=0.6, loss=0.594]\n",
      "Epoch 30: 100%|██████████| 350/350 [00:00<00:00, 474.65batch/s, acc=0.6, loss=0.593]\n",
      "Epoch 31: 100%|██████████| 350/350 [00:00<00:00, 447.53batch/s, acc=0.6, loss=0.592]\n",
      "Epoch 32: 100%|██████████| 350/350 [00:00<00:00, 476.89batch/s, acc=0.6, loss=0.591]\n",
      "Epoch 33: 100%|██████████| 350/350 [00:00<00:00, 468.41batch/s, acc=0.6, loss=0.59] \n",
      "Epoch 34: 100%|██████████| 350/350 [00:00<00:00, 457.26batch/s, acc=0.6, loss=0.589]\n",
      "Epoch 35: 100%|██████████| 350/350 [00:00<00:00, 464.19batch/s, acc=0.6, loss=0.589]\n",
      "Epoch 36: 100%|██████████| 350/350 [00:00<00:00, 473.22batch/s, acc=0.6, loss=0.588]\n",
      "Epoch 37: 100%|██████████| 350/350 [00:00<00:00, 478.00batch/s, acc=0.6, loss=0.587]\n",
      "Epoch 38: 100%|██████████| 350/350 [00:00<00:00, 474.12batch/s, acc=0.6, loss=0.586]\n",
      "Epoch 39: 100%|██████████| 350/350 [00:00<00:00, 455.59batch/s, acc=0.6, loss=0.584]\n",
      "Epoch 40: 100%|██████████| 350/350 [00:00<00:00, 473.30batch/s, acc=0.6, loss=0.584]\n",
      "Epoch 41: 100%|██████████| 350/350 [00:00<00:00, 476.79batch/s, acc=0.6, loss=0.583]\n",
      "Epoch 42: 100%|██████████| 350/350 [00:00<00:00, 466.95batch/s, acc=0.6, loss=0.582]\n",
      "Epoch 43: 100%|██████████| 350/350 [00:00<00:00, 425.71batch/s, acc=0.6, loss=0.581]\n",
      "Epoch 44: 100%|██████████| 350/350 [00:00<00:00, 408.87batch/s, acc=0.6, loss=0.581]\n",
      "Epoch 45: 100%|██████████| 350/350 [00:00<00:00, 425.73batch/s, acc=0.6, loss=0.58] \n",
      "Epoch 46: 100%|██████████| 350/350 [00:00<00:00, 429.09batch/s, acc=0.6, loss=0.579]\n",
      "Epoch 47: 100%|██████████| 350/350 [00:00<00:00, 424.24batch/s, acc=0.6, loss=0.578]\n",
      "Epoch 48: 100%|██████████| 350/350 [00:00<00:00, 429.17batch/s, acc=0.6, loss=0.578]\n",
      "Epoch 49: 100%|██████████| 350/350 [00:00<00:00, 437.09batch/s, acc=0.6, loss=0.577]\n"
     ]
    },
    {
     "name": "stdout",
     "output_type": "stream",
     "text": [
      "Final model accuracy: 62.20%\n"
     ]
    }
   ],
   "source": [
    "model = PitchPredictionModel()\n",
    "final_acc = model_train(model, X_train, y_train, X_test, y_test)\n",
    "\n",
    "print(f\"Final model accuracy: {final_acc*100:.2f}%\")"
   ]
  },
  {
   "cell_type": "code",
   "execution_count": 19,
   "metadata": {},
   "outputs": [
    {
     "name": "stdout",
     "output_type": "stream",
     "text": [
      "ROC Image Output Filename: /Users/lroland/Projects/github.com/baseball/target/models/predict_pitch/roc.jpg\n",
      "[-1.0913701 -0.326449   1.         0.         0.         0.\n",
      "  1.         0.0165132] -> [0.592573] (expected [0.])\n",
      "[ 0.4279386 -1.3892214  0.         1.         0.         1.\n",
      "  1.         0.0165132] -> [0.7338681] (expected [1.])\n",
      "[-0.07849762  0.7363235   0.          0.          0.          0.\n",
      "  1.          0.0165132 ] -> [0.6509804] (expected [1.])\n",
      "[ 0.93437487  0.02057875  0.          0.          0.          0.\n",
      "  1.         -0.59058964] -> [0.74306893] (expected [1.])\n",
      "[-0.07849762  0.77970195  0.          0.          0.          1.\n",
      "  1.         -0.28703824] -> [0.66266763] (expected [1.])\n"
     ]
    },
    {
     "data": {
      "image/png": "[encoded data removed]",
      "text/plain": [
       "<Figure size 640x480 with 1 Axes>"
      ]
     },
     "metadata": {},
     "output_type": "display_data"
    },
    {
     "name": "stdout",
     "output_type": "stream",
     "text": [
      "KFP not detected.  Skipping metrics logging.\n",
      "{'__name__': 'train_tools', '__doc__': ' Utility methods for use by prediction services. ', '__package__': '', '__loader__': <_frozen_importlib_external.SourceFileLoader object at 0x110cef6d0>, '__spec__': ModuleSpec(name='train_tools', loader=<_frozen_importlib_external.SourceFileLoader object at 0x110cef6d0>, origin='/Users/lroland/Projects/github.com/baseball/data/src/train/train_tools.py'), '__file__': '/Users/lroland/Projects/github.com/baseball/data/src/train/train_tools.py', '__cached__': '/Users/lroland/Projects/github.com/baseball/data/src/train/__pycache__/train_tools.cpython-311.pyc', '__builtins__': {'__name__': 'builtins', '__doc__': \"Built-in functions, types, exceptions, and other objects.\\n\\nThis module provides direct access to all 'built-in'\\nidentifiers of Python; for example, builtins.len is\\nthe full name for the built-in function len().\\n\\nThis module is not normally accessed explicitly by most\\napplications, but can be useful in modules that provide\\nobjects with the same name as a built-in value, but in\\nwhich the built-in of that name is also needed.\", '__package__': '', '__loader__': <class '_frozen_importlib.BuiltinImporter'>, '__spec__': ModuleSpec(name='builtins', loader=<class '_frozen_importlib.BuiltinImporter'>, origin='built-in'), '__build_class__': <built-in function __build_class__>, '__import__': <built-in function __import__>, 'abs': <built-in function abs>, 'all': <built-in function all>, 'any': <built-in function any>, 'ascii': <built-in function ascii>, 'bin': <built-in function bin>, 'breakpoint': <built-in function breakpoint>, 'callable': <built-in function callable>, 'chr': <built-in function chr>, 'compile': <built-in function compile>, 'delattr': <built-in function delattr>, 'dir': <built-in function dir>, 'divmod': <built-in function divmod>, 'eval': <built-in function eval>, 'exec': <built-in function exec>, 'format': <built-in function format>, 'getattr': <built-in function getattr>, 'globals': <built-in function globals>, 'hasattr': <built-in function hasattr>, 'hash': <built-in function hash>, 'hex': <built-in function hex>, 'id': <built-in function id>, 'input': <bound method Kernel.raw_input of <ipykernel.ipkernel.IPythonKernel object at 0x110496ed0>>, 'isinstance': <built-in function isinstance>, 'issubclass': <built-in function issubclass>, 'iter': <built-in function iter>, 'aiter': <built-in function aiter>, 'len': <built-in function len>, 'locals': <built-in function locals>, 'max': <built-in function max>, 'min': <built-in function min>, 'next': <built-in function next>, 'anext': <built-in function anext>, 'oct': <built-in function oct>, 'ord': <built-in function ord>, 'pow': <built-in function pow>, 'print': <built-in function print>, 'repr': <built-in function repr>, 'round': <built-in function round>, 'setattr': <built-in function setattr>, 'sorted': <built-in function sorted>, 'sum': <built-in function sum>, 'vars': <built-in function vars>, 'None': None, 'Ellipsis': Ellipsis, 'NotImplemented': NotImplemented, 'False': False, 'True': True, 'bool': <class 'bool'>, 'memoryview': <class 'memoryview'>, 'bytearray': <class 'bytearray'>, 'bytes': <class 'bytes'>, 'classmethod': <class 'classmethod'>, 'complex': <class 'complex'>, 'dict': <class 'dict'>, 'enumerate': <class 'enumerate'>, 'filter': <class 'filter'>, 'float': <class 'float'>, 'frozenset': <class 'frozenset'>, 'property': <class 'property'>, 'int': <class 'int'>, 'list': <class 'list'>, 'map': <class 'map'>, 'object': <class 'object'>, 'range': <class 'range'>, 'reversed': <class 'reversed'>, 'set': <class 'set'>, 'slice': <class 'slice'>, 'staticmethod': <class 'staticmethod'>, 'str': <class 'str'>, 'super': <class 'super'>, 'tuple': <class 'tuple'>, 'type': <class 'type'>, 'zip': <class 'zip'>, '__debug__': True, 'BaseException': <class 'BaseException'>, 'BaseExceptionGroup': <class 'BaseExceptionGroup'>, 'Exception': <class 'Exception'>, 'GeneratorExit': <class 'GeneratorExit'>, 'KeyboardInterrupt': <class 'KeyboardInterrupt'>, 'SystemExit': <class 'SystemExit'>, 'ArithmeticError': <class 'ArithmeticError'>, 'AssertionError': <class 'AssertionError'>, 'AttributeError': <class 'AttributeError'>, 'BufferError': <class 'BufferError'>, 'EOFError': <class 'EOFError'>, 'ImportError': <class 'ImportError'>, 'LookupError': <class 'LookupError'>, 'MemoryError': <class 'MemoryError'>, 'NameError': <class 'NameError'>, 'OSError': <class 'OSError'>, 'ReferenceError': <class 'ReferenceError'>, 'RuntimeError': <class 'RuntimeError'>, 'StopAsyncIteration': <class 'StopAsyncIteration'>, 'StopIteration': <class 'StopIteration'>, 'SyntaxError': <class 'SyntaxError'>, 'SystemError': <class 'SystemError'>, 'TypeError': <class 'TypeError'>, 'ValueError': <class 'ValueError'>, 'Warning': <class 'Warning'>, 'FloatingPointError': <class 'FloatingPointError'>, 'OverflowError': <class 'OverflowError'>, 'ZeroDivisionError': <class 'ZeroDivisionError'>, 'BytesWarning': <class 'BytesWarning'>, 'DeprecationWarning': <class 'DeprecationWarning'>, 'EncodingWarning': <class 'EncodingWarning'>, 'FutureWarning': <class 'FutureWarning'>, 'ImportWarning': <class 'ImportWarning'>, 'PendingDeprecationWarning': <class 'PendingDeprecationWarning'>, 'ResourceWarning': <class 'ResourceWarning'>, 'RuntimeWarning': <class 'RuntimeWarning'>, 'SyntaxWarning': <class 'SyntaxWarning'>, 'UnicodeWarning': <class 'UnicodeWarning'>, 'UserWarning': <class 'UserWarning'>, 'BlockingIOError': <class 'BlockingIOError'>, 'ChildProcessError': <class 'ChildProcessError'>, 'ConnectionError': <class 'ConnectionError'>, 'FileExistsError': <class 'FileExistsError'>, 'FileNotFoundError': <class 'FileNotFoundError'>, 'InterruptedError': <class 'InterruptedError'>, 'IsADirectoryError': <class 'IsADirectoryError'>, 'NotADirectoryError': <class 'NotADirectoryError'>, 'PermissionError': <class 'PermissionError'>, 'ProcessLookupError': <class 'ProcessLookupError'>, 'TimeoutError': <class 'TimeoutError'>, 'IndentationError': <class 'IndentationError'>, 'IndexError': <class 'IndexError'>, 'KeyError': <class 'KeyError'>, 'ModuleNotFoundError': <class 'ModuleNotFoundError'>, 'NotImplementedError': <class 'NotImplementedError'>, 'RecursionError': <class 'RecursionError'>, 'UnboundLocalError': <class 'UnboundLocalError'>, 'UnicodeError': <class 'UnicodeError'>, 'BrokenPipeError': <class 'BrokenPipeError'>, 'ConnectionAbortedError': <class 'ConnectionAbortedError'>, 'ConnectionRefusedError': <class 'ConnectionRefusedError'>, 'ConnectionResetError': <class 'ConnectionResetError'>, 'TabError': <class 'TabError'>, 'UnicodeDecodeError': <class 'UnicodeDecodeError'>, 'UnicodeEncodeError': <class 'UnicodeEncodeError'>, 'UnicodeTranslateError': <class 'UnicodeTranslateError'>, 'ExceptionGroup': <class 'ExceptionGroup'>, 'EnvironmentError': <class 'OSError'>, 'IOError': <class 'OSError'>, 'open': <built-in function open>, 'copyright': Copyright (c) 2001-2023 Python Software Foundation.\n",
      "All Rights Reserved.\n",
      "\n",
      "Copyright (c) 2000 BeOpen.com.\n",
      "All Rights Reserved.\n",
      "\n",
      "Copyright (c) 1995-2001 Corporation for National Research Initiatives.\n",
      "All Rights Reserved.\n",
      "\n",
      "Copyright (c) 1991-1995 Stichting Mathematisch Centrum, Amsterdam.\n",
      "All Rights Reserved., 'credits':     Thanks to CWI, CNRI, BeOpen.com, Zope Corporation and a cast of thousands\n",
      "    for supporting Python development.  See www.python.org for more information., 'license': Type license() to see the full license text, 'help': Type help() for interactive help, or help(object) for help about object., 'execfile': <function execfile at 0x1105e5da0>, 'runfile': <function runfile at 0x1106f18a0>, '__IPYTHON__': True, 'display': <function display at 0x1071d7240>, '__pybind11_internals_v4_clang_libcpp_cxxabi1002__': <capsule object NULL at 0x110da11a0>, 'get_ipython': <bound method InteractiveShell.get_ipython of <ipykernel.zmqshell.ZMQInteractiveShell object at 0x110a7c150>>}, 'os': <module 'os' (frozen)>, 'copy': <module 'copy' from '/opt/anaconda3/envs/baseball/lib/python3.11/copy.py'>, 'logging': <module 'logging' from '/opt/anaconda3/envs/baseball/lib/python3.11/logging/__init__.py'>, 'joblib': <module 'joblib' from '/opt/anaconda3/envs/baseball/lib/python3.11/site-packages/joblib/__init__.py'>, 'pd': <module 'pandas' from '/opt/anaconda3/envs/baseball/lib/python3.11/site-packages/pandas/__init__.py'>, 'NAType': <class 'pandas._libs.missing.NAType'>, 'np': <module 'numpy' from '/opt/anaconda3/envs/baseball/lib/python3.11/site-packages/numpy/__init__.py'>, 'psycopg': <module 'psycopg' from '/opt/anaconda3/envs/baseball/lib/python3.11/site-packages/psycopg/__init__.py'>, 'tqdm': <module 'tqdm' from '/opt/anaconda3/envs/baseball/lib/python3.11/site-packages/tqdm/__init__.py'>, 'torch': <module 'torch' from '/opt/anaconda3/envs/baseball/lib/python3.11/site-packages/torch/__init__.py'>, 'optim': <module 'torch.optim' from '/opt/anaconda3/envs/baseball/lib/python3.11/site-packages/torch/optim/__init__.py'>, 'nn': <module 'torch.nn' from '/opt/anaconda3/envs/baseball/lib/python3.11/site-packages/torch/nn/__init__.py'>, 'onnx': <module 'onnx' from '/opt/anaconda3/envs/baseball/lib/python3.11/site-packages/onnx/__init__.py'>, 'StandardScaler': <class 'sklearn.preprocessing._data.StandardScaler'>, 'roc_curve': <function roc_curve at 0x158742660>, 'plt': <module 'matplotlib.pyplot' from '/opt/anaconda3/envs/baseball/lib/python3.11/site-packages/matplotlib/pyplot.py'>, 'logger': <Logger train_tools (WARNING)>, 'SCALER_SUFFIX': '_scaler.gz', 'PredictionConstants': <class 'train_tools.PredictionConstants'>, 'fail': <function fail at 0x158b42480>, 'get_config_value': <function get_config_value at 0x15a548540>, 'acquire_data': <function acquire_data at 0x15e7a5440>, 'model_train': <function model_train at 0x15e7a54e0>, 'save_model': <function save_model at 0x15e7a5580>, 'load_model': <function load_model at 0x15e7a5620>, 'one_for_true': <function one_for_true at 0x15e7a56c0>, 'get_tf_num_for_value': <function get_tf_num_for_value at 0x15e7a5760>, 'replace_populated_values_with_tf_num': <function replace_populated_values_with_tf_num at 0x15e7a5800>, 'get_tf_num_for_bool': <function get_tf_num_for_bool at 0x15e7a58a0>, 'replace_boolean_values_with_tf_num': <function replace_boolean_values_with_tf_num at 0x15e7a5940>, 'extract_categorical_columns': <function extract_categorical_columns at 0x15e7a59e0>, 'scale_int_values': <function scale_int_values at 0x15e7a5a80>, 'scale_single_value': <function scale_single_value at 0x15e7a5b20>, 'drop_column': <function drop_column at 0x15e7a5bc0>, 'evaluate_model': <function evaluate_model at 0x15e7a5c60>, 'save_scaler': <function save_scaler at 0x15e7a5d00>, 'load_scaler': <function load_scaler at 0x15e7a5da0>}\n"
     ]
    }
   ],
   "source": [
    "roc_path = os.path.abspath(roc_path)\n",
    "print(\"ROC Image Output Filename: \" + roc_path)\n",
    "\n",
    "evaluate_model(model, X_test, y_test, roc_path, metrics_output=metrics_output)"
   ]
  },
  {
   "cell_type": "markdown",
   "metadata": {},
   "source": [
    "## Save the model\n",
    "\n",
    "Save the model to disk for use by an inference service."
   ]
  },
  {
   "cell_type": "code",
   "execution_count": 20,
   "metadata": {},
   "outputs": [
    {
     "name": "stdout",
     "output_type": "stream",
     "text": [
      "ONNX Model Output Filename: /Users/lroland/Projects/github.com/baseball/target/models/predict_pitch/model.onnx\n"
     ]
    }
   ],
   "source": [
    "onnx_path = os.path.abspath(onnx_path)\n",
    "print (\"ONNX Model Output Filename: \" + onnx_path)\n",
    "\n",
    "save_model(model, num_features, onnx_path)"
   ]
  },
  {
   "cell_type": "code",
   "execution_count": null,
   "metadata": {},
   "outputs": [],
   "source": []
  }
 ],
 "metadata": {
  "kernelspec": {
   "display_name": "baseball",
   "language": "python",
   "name": "python3"
  },
  "language_info": {
   "codemirror_mode": {
    "name": "ipython",
    "version": 3
   },
   "file_extension": ".py",
   "mimetype": "text/x-python",
   "name": "python",
   "nbconvert_exporter": "python",
   "pygments_lexer": "ipython3",
   "version": "3.11.9"
  }
 },
 "nbformat": 4,
 "nbformat_minor": 4
}
