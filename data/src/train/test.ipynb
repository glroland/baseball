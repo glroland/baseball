{
 "cells": [
  {
   "cell_type": "code",
   "execution_count": 1,
   "id": "631a853e-9050-471e-aebd-a7c6fd464076",
   "metadata": {},
   "outputs": [
    {
     "data": {
      "text/plain": [
       "2"
      ]
     },
     "execution_count": 1,
     "metadata": {},
     "output_type": "execute_result"
    }
   ],
   "source": [
    "1+1"
   ]
  },
  {
   "cell_type": "code",
   "execution_count": 2,
   "id": "bd2211da-f1a6-4668-8d2f-7d16d5757573",
   "metadata": {
    "tags": [
     "parameters"
    ]
   },
   "outputs": [],
   "source": [
    "output_dir = \"OBOY\"\n",
    "onnx_path = \"LMN\"\n",
    "roc_path = \"XYZROC\"\n",
    "dataset_size = 2\n",
    "db_conn_str = \"asdfasdfasf\"\n",
    "neural_network_width = 1\n"
   ]
  },
  {
   "cell_type": "code",
   "execution_count": 3,
   "id": "cc630648",
   "metadata": {},
   "outputs": [
    {
     "name": "stdout",
     "output_type": "stream",
     "text": [
      "OBOY\n",
      "LMN\n",
      "XYZROC\n",
      "2\n",
      "asdfasdfasf\n",
      "1\n"
     ]
    }
   ],
   "source": [
    "print (output_dir)\n",
    "print (onnx_path)\n",
    "print (roc_path)\n",
    "print (dataset_size)\n",
    "print (db_conn_str)\n",
    "print (neural_network_width)\n"
   ]
  }
 ],
 "metadata": {
  "kernelspec": {
   "display_name": "baseball",
   "language": "python",
   "name": "python3"
  },
  "language_info": {
   "codemirror_mode": {
    "name": "ipython",
    "version": 3
   },
   "file_extension": ".py",
   "mimetype": "text/x-python",
   "name": "python",
   "nbconvert_exporter": "python",
   "pygments_lexer": "ipython3",
   "version": "3.11.9"
  }
 },
 "nbformat": 4,
 "nbformat_minor": 5
}
